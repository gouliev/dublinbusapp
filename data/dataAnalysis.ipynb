{
 "cells": [
  {
   "cell_type": "code",
   "execution_count": 40,
   "id": "9f286f87",
   "metadata": {},
   "outputs": [],
   "source": [
    "import pandas as pd\n",
    "import matplotlib.pyplot as plt\n",
    "import numpy as np\n",
    "from cleaningScript import cleanData # 1 <3 encapsulation"
   ]
  },
  {
   "cell_type": "code",
   "execution_count": 13,
   "id": "f51367d0",
   "metadata": {},
   "outputs": [],
   "source": [
    "route, direction = '84', 1"
   ]
  },
  {
   "cell_type": "code",
   "execution_count": 14,
   "id": "8077e33f",
   "metadata": {},
   "outputs": [],
   "source": [
    "df = cleanData(route, direction)"
   ]
  },
  {
   "cell_type": "code",
   "execution_count": 15,
   "id": "58d800ac",
   "metadata": {},
   "outputs": [
    {
     "name": "stdout",
     "output_type": "stream",
     "text": [
      "366356 rows\n"
     ]
    },
    {
     "data": {
      "text/html": [
       "<div>\n",
       "<style scoped>\n",
       "    .dataframe tbody tr th:only-of-type {\n",
       "        vertical-align: middle;\n",
       "    }\n",
       "\n",
       "    .dataframe tbody tr th {\n",
       "        vertical-align: top;\n",
       "    }\n",
       "\n",
       "    .dataframe thead th {\n",
       "        text-align: right;\n",
       "    }\n",
       "</style>\n",
       "<table border=\"1\" class=\"dataframe\">\n",
       "  <thead>\n",
       "    <tr style=\"text-align: right;\">\n",
       "      <th></th>\n",
       "      <th>date</th>\n",
       "      <th>tripid</th>\n",
       "      <th>progrnumber</th>\n",
       "      <th>stopActualArr</th>\n",
       "      <th>journeytime</th>\n",
       "      <th>dwelltime</th>\n",
       "      <th>rain</th>\n",
       "      <th>temp</th>\n",
       "      <th>humidity</th>\n",
       "      <th>pressure</th>\n",
       "    </tr>\n",
       "  </thead>\n",
       "  <tbody>\n",
       "    <tr>\n",
       "      <th>0</th>\n",
       "      <td>2018-01-01</td>\n",
       "      <td>5955785</td>\n",
       "      <td>1</td>\n",
       "      <td>36583</td>\n",
       "      <td>0</td>\n",
       "      <td>0</td>\n",
       "      <td>0.0</td>\n",
       "      <td>5.6</td>\n",
       "      <td>79</td>\n",
       "      <td>992.9</td>\n",
       "    </tr>\n",
       "    <tr>\n",
       "      <th>1</th>\n",
       "      <td>2018-01-01</td>\n",
       "      <td>5955785</td>\n",
       "      <td>2</td>\n",
       "      <td>36617</td>\n",
       "      <td>34</td>\n",
       "      <td>12</td>\n",
       "      <td>0.0</td>\n",
       "      <td>5.6</td>\n",
       "      <td>79</td>\n",
       "      <td>992.9</td>\n",
       "    </tr>\n",
       "    <tr>\n",
       "      <th>2</th>\n",
       "      <td>2018-01-01</td>\n",
       "      <td>5955785</td>\n",
       "      <td>3</td>\n",
       "      <td>36721</td>\n",
       "      <td>138</td>\n",
       "      <td>0</td>\n",
       "      <td>0.0</td>\n",
       "      <td>5.6</td>\n",
       "      <td>79</td>\n",
       "      <td>992.9</td>\n",
       "    </tr>\n",
       "  </tbody>\n",
       "</table>\n",
       "</div>"
      ],
      "text/plain": [
       "        date   tripid  progrnumber  stopActualArr  journeytime  dwelltime  \\\n",
       "0 2018-01-01  5955785            1          36583            0          0   \n",
       "1 2018-01-01  5955785            2          36617           34         12   \n",
       "2 2018-01-01  5955785            3          36721          138          0   \n",
       "\n",
       "   rain  temp  humidity  pressure  \n",
       "0   0.0   5.6        79     992.9  \n",
       "1   0.0   5.6        79     992.9  \n",
       "2   0.0   5.6        79     992.9  "
      ]
     },
     "execution_count": 15,
     "metadata": {},
     "output_type": "execute_result"
    }
   ],
   "source": [
    "print(len(df),  \"rows\")\n",
    "df.head(3)"
   ]
  },
  {
   "cell_type": "code",
   "execution_count": 16,
   "id": "40d19a8e",
   "metadata": {},
   "outputs": [
    {
     "data": {
      "text/plain": [
       "date             datetime64[ns]\n",
       "tripid                    int64\n",
       "progrnumber               int64\n",
       "stopActualArr             int64\n",
       "journeytime               Int64\n",
       "dwelltime                 int64\n",
       "rain                    float64\n",
       "temp                    float64\n",
       "humidity                  int64\n",
       "pressure                float64\n",
       "dtype: object"
      ]
     },
     "execution_count": 16,
     "metadata": {},
     "output_type": "execute_result"
    }
   ],
   "source": [
    "df.dtypes"
   ]
  },
  {
   "cell_type": "code",
   "execution_count": 17,
   "id": "3a96055f",
   "metadata": {},
   "outputs": [
    {
     "data": {
      "text/html": [
       "<div>\n",
       "<style scoped>\n",
       "    .dataframe tbody tr th:only-of-type {\n",
       "        vertical-align: middle;\n",
       "    }\n",
       "\n",
       "    .dataframe tbody tr th {\n",
       "        vertical-align: top;\n",
       "    }\n",
       "\n",
       "    .dataframe thead th {\n",
       "        text-align: right;\n",
       "    }\n",
       "</style>\n",
       "<table border=\"1\" class=\"dataframe\">\n",
       "  <thead>\n",
       "    <tr style=\"text-align: right;\">\n",
       "      <th></th>\n",
       "      <th>date</th>\n",
       "      <th>tripid</th>\n",
       "      <th>progrnumber</th>\n",
       "      <th>stopActualArr</th>\n",
       "      <th>journeytime</th>\n",
       "      <th>dwelltime</th>\n",
       "      <th>rain</th>\n",
       "      <th>temp</th>\n",
       "      <th>humidity</th>\n",
       "      <th>pressure</th>\n",
       "      <th>weekday</th>\n",
       "      <th>month</th>\n",
       "      <th>hour</th>\n",
       "    </tr>\n",
       "  </thead>\n",
       "  <tbody>\n",
       "    <tr>\n",
       "      <th>0</th>\n",
       "      <td>2018-01-01</td>\n",
       "      <td>5955785</td>\n",
       "      <td>1</td>\n",
       "      <td>36583</td>\n",
       "      <td>0</td>\n",
       "      <td>0</td>\n",
       "      <td>0.0</td>\n",
       "      <td>5.6</td>\n",
       "      <td>79</td>\n",
       "      <td>992.9</td>\n",
       "      <td>0</td>\n",
       "      <td>1</td>\n",
       "      <td>10</td>\n",
       "    </tr>\n",
       "    <tr>\n",
       "      <th>1</th>\n",
       "      <td>2018-01-01</td>\n",
       "      <td>5955785</td>\n",
       "      <td>2</td>\n",
       "      <td>36617</td>\n",
       "      <td>34</td>\n",
       "      <td>12</td>\n",
       "      <td>0.0</td>\n",
       "      <td>5.6</td>\n",
       "      <td>79</td>\n",
       "      <td>992.9</td>\n",
       "      <td>0</td>\n",
       "      <td>1</td>\n",
       "      <td>10</td>\n",
       "    </tr>\n",
       "    <tr>\n",
       "      <th>2</th>\n",
       "      <td>2018-01-01</td>\n",
       "      <td>5955785</td>\n",
       "      <td>3</td>\n",
       "      <td>36721</td>\n",
       "      <td>138</td>\n",
       "      <td>0</td>\n",
       "      <td>0.0</td>\n",
       "      <td>5.6</td>\n",
       "      <td>79</td>\n",
       "      <td>992.9</td>\n",
       "      <td>0</td>\n",
       "      <td>1</td>\n",
       "      <td>10</td>\n",
       "    </tr>\n",
       "  </tbody>\n",
       "</table>\n",
       "</div>"
      ],
      "text/plain": [
       "        date   tripid  progrnumber  stopActualArr  journeytime  dwelltime  \\\n",
       "0 2018-01-01  5955785            1          36583            0          0   \n",
       "1 2018-01-01  5955785            2          36617           34         12   \n",
       "2 2018-01-01  5955785            3          36721          138          0   \n",
       "\n",
       "   rain  temp  humidity  pressure  weekday  month  hour  \n",
       "0   0.0   5.6        79     992.9        0      1    10  \n",
       "1   0.0   5.6        79     992.9        0      1    10  \n",
       "2   0.0   5.6        79     992.9        0      1    10  "
      ]
     },
     "execution_count": 17,
     "metadata": {},
     "output_type": "execute_result"
    }
   ],
   "source": [
    "df['weekday'] = df.date.dt.weekday\n",
    "df['month'] = df.date.dt.month\n",
    "df['hour'] = (df.stopActualArr//3600) % 24\n",
    "df.head(3)"
   ]
  },
  {
   "cell_type": "code",
   "execution_count": 18,
   "id": "e2c4fe89",
   "metadata": {},
   "outputs": [
    {
     "data": {
      "image/png": "[encoded data removed]",
      "text/plain": [
       "<Figure size 720x360 with 1 Axes>"
      ]
     },
     "metadata": {
      "needs_background": "light"
     },
     "output_type": "display_data"
    }
   ],
   "source": [
    "plt.figure(figsize=(10, 5))\n",
    "plt.scatter(df.progrnumber, df.journeytime)\n",
    "plt.grid()"
   ]
  },
  {
   "cell_type": "markdown",
   "id": "d50ba83e",
   "metadata": {},
   "source": [
    "Journey times are sometimes negative. Removing any stop from a journey that had a negative journey time anywhere as the whole trip could be offset"
   ]
  },
  {
   "cell_type": "code",
   "execution_count": 19,
   "id": "33936901",
   "metadata": {},
   "outputs": [
    {
     "name": "stdout",
     "output_type": "stream",
     "text": [
      "363904 rows\n"
     ]
    }
   ],
   "source": [
    "dftmp = df[(df.journeytime <= 0)&(df.progrnumber > 1)]\n",
    "df = df[~df['date'].isin(dftmp['date']) | ~df['tripid'].isin(dftmp['tripid'])]\n",
    "print(len(df),  \"rows\")"
   ]
  },
  {
   "cell_type": "code",
   "execution_count": 20,
   "id": "e11d66f2",
   "metadata": {
    "scrolled": false
   },
   "outputs": [
    {
     "data": {
      "image/png": "[encoded data removed]",
      "text/plain": [
       "<Figure size 720x360 with 1 Axes>"
      ]
     },
     "metadata": {
      "needs_background": "light"
     },
     "output_type": "display_data"
    }
   ],
   "source": [
    "plt.figure(figsize=(10,5))\n",
    "plt.scatter(df.progrnumber, df.journeytime)\n",
    "plt.grid()"
   ]
  },
  {
   "cell_type": "markdown",
   "id": "4ad74877",
   "metadata": {},
   "source": [
    "## Journey time vs Month"
   ]
  },
  {
   "cell_type": "code",
   "execution_count": 36,
   "id": "56ba3183",
   "metadata": {},
   "outputs": [
    {
     "data": {
      "text/html": [
       "<div>\n",
       "<style scoped>\n",
       "    .dataframe tbody tr th:only-of-type {\n",
       "        vertical-align: middle;\n",
       "    }\n",
       "\n",
       "    .dataframe tbody tr th {\n",
       "        vertical-align: top;\n",
       "    }\n",
       "\n",
       "    .dataframe thead th {\n",
       "        text-align: right;\n",
       "    }\n",
       "</style>\n",
       "<table border=\"1\" class=\"dataframe\">\n",
       "  <thead>\n",
       "    <tr style=\"text-align: right;\">\n",
       "      <th></th>\n",
       "      <th></th>\n",
       "      <th>progrnumber</th>\n",
       "      <th>stopActualArr</th>\n",
       "      <th>journeytime</th>\n",
       "      <th>dwelltime</th>\n",
       "      <th>rain</th>\n",
       "      <th>temp</th>\n",
       "      <th>humidity</th>\n",
       "      <th>pressure</th>\n",
       "      <th>weekday</th>\n",
       "      <th>month</th>\n",
       "      <th>hour</th>\n",
       "    </tr>\n",
       "    <tr>\n",
       "      <th>date</th>\n",
       "      <th>tripid</th>\n",
       "      <th></th>\n",
       "      <th></th>\n",
       "      <th></th>\n",
       "      <th></th>\n",
       "      <th></th>\n",
       "      <th></th>\n",
       "      <th></th>\n",
       "      <th></th>\n",
       "      <th></th>\n",
       "      <th></th>\n",
       "      <th></th>\n",
       "    </tr>\n",
       "  </thead>\n",
       "  <tbody>\n",
       "    <tr>\n",
       "      <th rowspan=\"5\" valign=\"top\">2018-01-01</th>\n",
       "      <th>5955785</th>\n",
       "      <td>86</td>\n",
       "      <td>41351</td>\n",
       "      <td>4768</td>\n",
       "      <td>647</td>\n",
       "      <td>0.0</td>\n",
       "      <td>6.7</td>\n",
       "      <td>79</td>\n",
       "      <td>994.1</td>\n",
       "      <td>0</td>\n",
       "      <td>1</td>\n",
       "      <td>11</td>\n",
       "    </tr>\n",
       "    <tr>\n",
       "      <th>5955787</th>\n",
       "      <td>89</td>\n",
       "      <td>51000</td>\n",
       "      <td>4788</td>\n",
       "      <td>451</td>\n",
       "      <td>0.2</td>\n",
       "      <td>7.5</td>\n",
       "      <td>81</td>\n",
       "      <td>998.3</td>\n",
       "      <td>0</td>\n",
       "      <td>1</td>\n",
       "      <td>14</td>\n",
       "    </tr>\n",
       "    <tr>\n",
       "      <th>5955789</th>\n",
       "      <td>86</td>\n",
       "      <td>60201</td>\n",
       "      <td>4337</td>\n",
       "      <td>194</td>\n",
       "      <td>0.0</td>\n",
       "      <td>7.3</td>\n",
       "      <td>75</td>\n",
       "      <td>1001.9</td>\n",
       "      <td>0</td>\n",
       "      <td>1</td>\n",
       "      <td>16</td>\n",
       "    </tr>\n",
       "    <tr>\n",
       "      <th>5955791</th>\n",
       "      <td>86</td>\n",
       "      <td>70188</td>\n",
       "      <td>4768</td>\n",
       "      <td>214</td>\n",
       "      <td>0.0</td>\n",
       "      <td>5.7</td>\n",
       "      <td>81</td>\n",
       "      <td>1006.2</td>\n",
       "      <td>0</td>\n",
       "      <td>1</td>\n",
       "      <td>19</td>\n",
       "    </tr>\n",
       "    <tr>\n",
       "      <th>5955793</th>\n",
       "      <td>86</td>\n",
       "      <td>79206</td>\n",
       "      <td>4279</td>\n",
       "      <td>748</td>\n",
       "      <td>0.0</td>\n",
       "      <td>5.0</td>\n",
       "      <td>79</td>\n",
       "      <td>1008.5</td>\n",
       "      <td>0</td>\n",
       "      <td>1</td>\n",
       "      <td>22</td>\n",
       "    </tr>\n",
       "    <tr>\n",
       "      <th>...</th>\n",
       "      <th>...</th>\n",
       "      <td>...</td>\n",
       "      <td>...</td>\n",
       "      <td>...</td>\n",
       "      <td>...</td>\n",
       "      <td>...</td>\n",
       "      <td>...</td>\n",
       "      <td>...</td>\n",
       "      <td>...</td>\n",
       "      <td>...</td>\n",
       "      <td>...</td>\n",
       "      <td>...</td>\n",
       "    </tr>\n",
       "    <tr>\n",
       "      <th rowspan=\"5\" valign=\"top\">2018-10-27</th>\n",
       "      <th>8059369</th>\n",
       "      <td>87</td>\n",
       "      <td>28872</td>\n",
       "      <td>4862</td>\n",
       "      <td>1288</td>\n",
       "      <td>0.0</td>\n",
       "      <td>2.8</td>\n",
       "      <td>80</td>\n",
       "      <td>1022.5</td>\n",
       "      <td>5</td>\n",
       "      <td>10</td>\n",
       "      <td>8</td>\n",
       "    </tr>\n",
       "    <tr>\n",
       "      <th>8059371</th>\n",
       "      <td>90</td>\n",
       "      <td>43511</td>\n",
       "      <td>4996</td>\n",
       "      <td>442</td>\n",
       "      <td>0.0</td>\n",
       "      <td>7.2</td>\n",
       "      <td>64</td>\n",
       "      <td>1023.0</td>\n",
       "      <td>5</td>\n",
       "      <td>10</td>\n",
       "      <td>12</td>\n",
       "    </tr>\n",
       "    <tr>\n",
       "      <th>8059373</th>\n",
       "      <td>86</td>\n",
       "      <td>56025</td>\n",
       "      <td>5660</td>\n",
       "      <td>170</td>\n",
       "      <td>0.0</td>\n",
       "      <td>6.9</td>\n",
       "      <td>59</td>\n",
       "      <td>1022.7</td>\n",
       "      <td>5</td>\n",
       "      <td>10</td>\n",
       "      <td>15</td>\n",
       "    </tr>\n",
       "    <tr>\n",
       "      <th>8059375</th>\n",
       "      <td>87</td>\n",
       "      <td>68567</td>\n",
       "      <td>5332</td>\n",
       "      <td>469</td>\n",
       "      <td>0.0</td>\n",
       "      <td>4.9</td>\n",
       "      <td>68</td>\n",
       "      <td>1025.1</td>\n",
       "      <td>5</td>\n",
       "      <td>10</td>\n",
       "      <td>19</td>\n",
       "    </tr>\n",
       "    <tr>\n",
       "      <th>8059377</th>\n",
       "      <td>87</td>\n",
       "      <td>80754</td>\n",
       "      <td>5136</td>\n",
       "      <td>1193</td>\n",
       "      <td>0.0</td>\n",
       "      <td>1.9</td>\n",
       "      <td>74</td>\n",
       "      <td>1026.3</td>\n",
       "      <td>5</td>\n",
       "      <td>10</td>\n",
       "      <td>22</td>\n",
       "    </tr>\n",
       "  </tbody>\n",
       "</table>\n",
       "<p>4318 rows × 11 columns</p>\n",
       "</div>"
      ],
      "text/plain": [
       "                    progrnumber  stopActualArr  journeytime  dwelltime  rain  \\\n",
       "date       tripid                                                              \n",
       "2018-01-01 5955785           86          41351         4768        647   0.0   \n",
       "           5955787           89          51000         4788        451   0.2   \n",
       "           5955789           86          60201         4337        194   0.0   \n",
       "           5955791           86          70188         4768        214   0.0   \n",
       "           5955793           86          79206         4279        748   0.0   \n",
       "...                         ...            ...          ...        ...   ...   \n",
       "2018-10-27 8059369           87          28872         4862       1288   0.0   \n",
       "           8059371           90          43511         4996        442   0.0   \n",
       "           8059373           86          56025         5660        170   0.0   \n",
       "           8059375           87          68567         5332        469   0.0   \n",
       "           8059377           87          80754         5136       1193   0.0   \n",
       "\n",
       "                    temp  humidity  pressure  weekday  month  hour  \n",
       "date       tripid                                                   \n",
       "2018-01-01 5955785   6.7        79     994.1        0      1    11  \n",
       "           5955787   7.5        81     998.3        0      1    14  \n",
       "           5955789   7.3        75    1001.9        0      1    16  \n",
       "           5955791   5.7        81    1006.2        0      1    19  \n",
       "           5955793   5.0        79    1008.5        0      1    22  \n",
       "...                  ...       ...       ...      ...    ...   ...  \n",
       "2018-10-27 8059369   2.8        80    1022.5        5     10     8  \n",
       "           8059371   7.2        64    1023.0        5     10    12  \n",
       "           8059373   6.9        59    1022.7        5     10    15  \n",
       "           8059375   4.9        68    1025.1        5     10    19  \n",
       "           8059377   1.9        74    1026.3        5     10    22  \n",
       "\n",
       "[4318 rows x 11 columns]"
      ]
     },
     "execution_count": 36,
     "metadata": {},
     "output_type": "execute_result"
    }
   ],
   "source": [
    "dfTotalJourney = df.groupby(['date','tripid']).max() #get the max journey time for a stop on a trip ,i.e. the last stop\n",
    "dfTotalJourney"
   ]
  },
  {
   "cell_type": "code",
   "execution_count": 52,
   "id": "ceb0119b",
   "metadata": {},
   "outputs": [
    {
     "data": {
      "image/png": "[encoded data removed]",
      "text/plain": [
       "<Figure size 720x504 with 1 Axes>"
      ]
     },
     "metadata": {
      "needs_background": "light"
     },
     "output_type": "display_data"
    }
   ],
   "source": [
    "plt.rcParams[\"figure.figsize\"] = (10, 7)\n",
    "dfTotalJourney.assign(index=dfTotalJourney.groupby('month').cumcount()).pivot('index','month','journeytime').plot(kind='box')\n",
    "plt.grid()"
   ]
  },
  {
   "cell_type": "markdown",
   "id": "a4c79e74",
   "metadata": {},
   "source": [
    "some small variation in the boxplots. Doesn't look very promising but not reason enough to exclude yet"
   ]
  },
  {
   "cell_type": "markdown",
   "id": "99a1b2ff",
   "metadata": {},
   "source": [
    "## Journey time vs Weekday"
   ]
  },
  {
   "cell_type": "code",
   "execution_count": 62,
   "id": "631c6c14",
   "metadata": {},
   "outputs": [
    {
     "data": {
      "image/png": "[encoded data removed]",
      "text/plain": [
       "<Figure size 720x504 with 1 Axes>"
      ]
     },
     "metadata": {
      "needs_background": "light"
     },
     "output_type": "display_data"
    }
   ],
   "source": [
    "plt.rcParams[\"figure.figsize\"] = (10, 7)\n",
    "dfTotalJourney.assign(index=dfTotalJourney.groupby('weekday').cumcount()).pivot('index','weekday','journeytime').plot(kind='box')\n",
    "plt.grid()"
   ]
  },
  {
   "cell_type": "markdown",
   "id": "5c22be37",
   "metadata": {},
   "source": [
    "more variation here for weekday, more promising particularly for the weekend"
   ]
  },
  {
   "cell_type": "code",
   "execution_count": null,
   "id": "cc567d5c",
   "metadata": {},
   "outputs": [],
   "source": []
  }
 ],
 "metadata": {
  "kernelspec": {
   "display_name": "Python 3 (ipykernel)",
   "language": "python",
   "name": "python3"
  },
  "language_info": {
   "codemirror_mode": {
    "name": "ipython",
    "version": 3
   },
   "file_extension": ".py",
   "mimetype": "text/x-python",
   "name": "python",
   "nbconvert_exporter": "python",
   "pygments_lexer": "ipython3",
   "version": "3.10.4"
  }
 },
 "nbformat": 4,
 "nbformat_minor": 5
}
