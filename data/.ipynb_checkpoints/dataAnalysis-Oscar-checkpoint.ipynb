{
 "cells": [
  {
   "cell_type": "code",
   "execution_count": 1,
   "id": "9f286f87",
   "metadata": {},
   "outputs": [],
   "source": [
    "import pandas as pd\n",
    "import matplotlib.pyplot as plt\n",
    "import numpy as np\n",
    "from sklearn.model_selection import train_test_split\n",
    "import sklearn.metrics\n",
    "from sklearn.linear_model import LinearRegression\n",
    "from sklearn.ensemble import RandomForestRegressor\n",
    "from sklearn.neighbors import KNeighborsRegressor\n",
    "from cleaningScript import cleanDatav2 # I <3 encapsulation"
   ]
  },
  {
   "cell_type": "code",
   "execution_count": 2,
   "id": "6daba04c",
   "metadata": {},
   "outputs": [],
   "source": [
    "#function to calculate metrics quickly\n",
    "def printMetrics(testActualVal, predictions):\n",
    "    print(\"MAE: \", sklearn.metrics.mean_absolute_error(testActualVal, predictions))\n",
    "    print(\"RMSE: \", sklearn.metrics.mean_squared_error(testActualVal, predictions)**0.5)\n",
    "    print(\"R2: \", sklearn.metrics.r2_score(testActualVal, predictions))"
   ]
  },
  {
   "cell_type": "code",
   "execution_count": 3,
   "id": "f51367d0",
   "metadata": {},
   "outputs": [],
   "source": [
    "route, direction = '84', 1"
   ]
  },
  {
   "cell_type": "code",
   "execution_count": null,
   "id": "8077e33f",
   "metadata": {},
   "outputs": [],
   "source": [
    "df = cleanDatav2(route, direction)"
   ]
  },
  {
   "cell_type": "code",
   "execution_count": null,
   "id": "58d800ac",
   "metadata": {},
   "outputs": [],
   "source": [
    "print(len(df),  \"rows\")\n",
    "df.head(3)"
   ]
  },
  {
   "cell_type": "code",
   "execution_count": null,
   "id": "3a96055f",
   "metadata": {},
   "outputs": [],
   "source": [
    "df['weekday'] = df.date.dt.weekday\n",
    "df['month'] = df.date.dt.month\n",
    "df['hour'] = (df.stopActualArr//3600)\n",
    "df.head(3)"
   ]
  },
  {
   "cell_type": "markdown",
   "id": "0c51cc6e",
   "metadata": {},
   "source": [
    "## Journey time vs Progrnumber"
   ]
  },
  {
   "cell_type": "code",
   "execution_count": null,
   "id": "e2c4fe89",
   "metadata": {},
   "outputs": [],
   "source": [
    "plt.figure(figsize=(10, 5))\n",
    "plt.scatter(df.progrnumber, df.journeytime)\n",
    "plt.grid()"
   ]
  },
  {
   "cell_type": "markdown",
   "id": "d50ba83e",
   "metadata": {},
   "source": [
    "Journey times are sometimes negative. Removing any stop from a journey that had a negative journey time anywhere as the whole trip could be offset"
   ]
  },
  {
   "cell_type": "markdown",
   "id": "d7816ae4",
   "metadata": {},
   "source": [
    "# vvvvvvvvvvvvvvvvvvvvvvvvvvvvvvvvvvvvvvvv"
   ]
  },
  {
   "cell_type": "markdown",
   "id": "86c52a1c",
   "metadata": {},
   "source": [
    "dftmp = df[(df.journeytime <= 0) & (df.progrnumber > 1)]\n",
    "df = df[~df['date'].isin(dftmp['date']) | ~df['tripid'].isin(dftmp['tripid'])]\n",
    "print(len(df),  \"rows\")"
   ]
  },
  {
   "cell_type": "markdown",
   "id": "74875877",
   "metadata": {},
   "source": [
    "# ^^^^^^^^^^^^^^^^^^^^^^^^^^^^^^^^^^^^^^^^^^^^^^^^^^^^^^^^^^^^^"
   ]
  },
  {
   "cell_type": "markdown",
   "id": "f2ecc802",
   "metadata": {
    "scrolled": false
   },
   "source": [
    "plt.figure(figsize=(10,5))\n",
    "plt.scatter(df.progrnumber, df.journeytime)\n",
    "plt.grid()"
   ]
  },
  {
   "cell_type": "markdown",
   "id": "b8ea889c",
   "metadata": {},
   "source": [
    "## Journey time vs Month"
   ]
  },
  {
   "cell_type": "code",
   "execution_count": null,
   "id": "b40b3e5b",
   "metadata": {},
   "outputs": [],
   "source": [
    "dfTotalJourney = df.groupby(['date','tripid']).max() #get the max journey time for a stop on a trip ,i.e. the last stop\n",
    "dfTotalJourney"
   ]
  },
  {
   "cell_type": "code",
   "execution_count": null,
   "id": "23542b32",
   "metadata": {},
   "outputs": [],
   "source": [
    "plt.rcParams[\"figure.figsize\"] = (10, 7)\n",
    "dfTotalJourney.assign(index=dfTotalJourney.groupby('month').cumcount()).pivot('index','month','journeytime').plot(kind='box')\n",
    "plt.grid()"
   ]
  },
  {
   "cell_type": "markdown",
   "id": "755e46a7",
   "metadata": {},
   "source": [
    "some small variation in the boxplots. Doesn't look very promising but not reason enough to exclude yet"
   ]
  },
  {
   "cell_type": "markdown",
   "id": "e2e08612",
   "metadata": {},
   "source": [
    "## Journey time vs Weekday"
   ]
  },
  {
   "cell_type": "code",
   "execution_count": null,
   "id": "330e4438",
   "metadata": {},
   "outputs": [],
   "source": [
    "plt.rcParams[\"figure.figsize\"] = (10, 7)\n",
    "dfTotalJourney.assign(index=dfTotalJourney.groupby('weekday').cumcount()).pivot('index','weekday','journeytime').plot(kind='box')\n",
    "plt.grid()"
   ]
  },
  {
   "cell_type": "markdown",
   "id": "f76c89fa",
   "metadata": {},
   "source": [
    "more variation here for weekday, more promising particularly for the weekend"
   ]
  },
  {
   "cell_type": "markdown",
   "id": "4d9e0445",
   "metadata": {},
   "source": [
    "## Journey time vs Hour"
   ]
  },
  {
   "cell_type": "code",
   "execution_count": null,
   "id": "f08f2b49",
   "metadata": {},
   "outputs": [],
   "source": [
    "dfTotalJourney.hour %= 24"
   ]
  },
  {
   "cell_type": "code",
   "execution_count": null,
   "id": "cab8d845",
   "metadata": {},
   "outputs": [],
   "source": [
    "plt.rcParams[\"figure.figsize\"] = (20, 7)\n",
    "dfTotalJourney.assign(index=dfTotalJourney.groupby('hour').cumcount()).pivot('index','hour','journeytime').plot(kind='box')\n",
    "plt.grid()"
   ]
  },
  {
   "cell_type": "markdown",
   "id": "84108fa4",
   "metadata": {},
   "source": [
    "some variation in the hour of the day the route finishes. appears to be cyclical, with 2 peaks and troughs. Maybe ausing some sort of trigonometric function or polynomial to model as well as having separate factors for each month."
   ]
  },
  {
   "cell_type": "markdown",
   "id": "59171c76",
   "metadata": {},
   "source": [
    "## Journey time vs Rain"
   ]
  },
  {
   "cell_type": "code",
   "execution_count": null,
   "id": "67dba929",
   "metadata": {},
   "outputs": [],
   "source": [
    "plt.figure(figsize=(10,5))\n",
    "plt.scatter(dfTotalJourney.rain, dfTotalJourney.journeytime)\n",
    "plt.grid()"
   ]
  },
  {
   "cell_type": "markdown",
   "id": "1ef325fd",
   "metadata": {},
   "source": [
    "looks like a normal distribution of journey times. The heavier rain is just clumped around the mean. This doesn't appear to have much predictive power."
   ]
  },
  {
   "cell_type": "markdown",
   "id": "69f7d047",
   "metadata": {},
   "source": [
    "## Journey time vs Temperature"
   ]
  },
  {
   "cell_type": "code",
   "execution_count": null,
   "id": "85d31751",
   "metadata": {},
   "outputs": [],
   "source": [
    "plt.figure(figsize=(10,5))\n",
    "plt.scatter(dfTotalJourney.temp, dfTotalJourney.journeytime)\n",
    "plt.grid()"
   ]
  },
  {
   "cell_type": "markdown",
   "id": "316f6205",
   "metadata": {},
   "source": [
    "looks like temperature doesn't have a correlation with the total journey time either, just clumped around the middle with no apparent relationship"
   ]
  },
  {
   "cell_type": "markdown",
   "id": "a27a6b75",
   "metadata": {},
   "source": [
    "## Journey time vs Humidity & Journey time vs Pressure"
   ]
  },
  {
   "cell_type": "code",
   "execution_count": null,
   "id": "13eba295",
   "metadata": {},
   "outputs": [],
   "source": [
    "plt.figure(figsize=(10,5))\n",
    "plt.scatter(dfTotalJourney.humidity, dfTotalJourney.journeytime)\n",
    "plt.grid()"
   ]
  },
  {
   "cell_type": "code",
   "execution_count": null,
   "id": "e1c5bb50",
   "metadata": {},
   "outputs": [],
   "source": [
    "plt.figure(figsize=(10,5))\n",
    "plt.scatter(dfTotalJourney.pressure, dfTotalJourney.journeytime)\n",
    "plt.grid()"
   ]
  },
  {
   "cell_type": "markdown",
   "id": "83eb93d7",
   "metadata": {},
   "source": [
    "First plot is humidity and appears to have a slight negative relationship with journey time so will look to see if it's useful.\n",
    "\n",
    "Second plot is pressure and doesn't appear to have any meaningful relationship to journey time. It's clumped aroun=d the centre like temperature"
   ]
  },
  {
   "cell_type": "markdown",
   "id": "314bd98f",
   "metadata": {},
   "source": [
    "# Model for total trip time"
   ]
  },
  {
   "cell_type": "code",
   "execution_count": null,
   "id": "abe146e4",
   "metadata": {},
   "outputs": [],
   "source": [
    "dfTotalJourney.head(3)"
   ]
  },
  {
   "cell_type": "code",
   "execution_count": null,
   "id": "4d6defff",
   "metadata": {},
   "outputs": [],
   "source": [
    "#removing rain, temp, pressure as no correlation is apparent\n",
    "#removing stopActualArr as journeytime is calculated from it\n",
    "#removing journeytime as I am modelling the total journey\n",
    "#dwelltime also removed as it is part of the journeytime and so can't be used to predict ahead of time\n",
    "#keeping date and tripid for ID purposes\n",
    "dfTotalJourney = dfTotalJourney.drop(columns = ['stopActualArr','rain','temp','pressure','progrnumber','dwelltime'])"
   ]
  },
  {
   "cell_type": "code",
   "execution_count": null,
   "id": "f5044413",
   "metadata": {},
   "outputs": [],
   "source": [
    "dfTotalJourney.head(3)"
   ]
  },
  {
   "cell_type": "code",
   "execution_count": null,
   "id": "e065e635",
   "metadata": {},
   "outputs": [],
   "source": [
    "dfTotalJourney.month = dfTotalJourney.month.astype('category')\n",
    "dfTotalJourney.hour = dfTotalJourney.hour.astype('category')\n",
    "dfTotalJourney.weekday = dfTotalJourney.weekday.astype('category')"
   ]
  },
  {
   "cell_type": "code",
   "execution_count": null,
   "id": "7cf6a95b",
   "metadata": {},
   "outputs": [],
   "source": [
    "monthlyDummies = pd.get_dummies(dfTotalJourney.month, prefix='m', drop_first=True)\n",
    "hourlyDummies = pd.get_dummies(dfTotalJourney.hour,prefix='h', drop_first=True)\n",
    "dailyDummies = pd.get_dummies(dfTotalJourney.weekday, prefix='d', drop_first=True)"
   ]
  },
  {
   "cell_type": "code",
   "execution_count": null,
   "id": "75656071",
   "metadata": {},
   "outputs": [],
   "source": [
    "dfTotalJourney = pd.concat([dfTotalJourney,monthlyDummies,hourlyDummies,dailyDummies], axis = 1)"
   ]
  },
  {
   "cell_type": "code",
   "execution_count": null,
   "id": "c51d99f1",
   "metadata": {},
   "outputs": [],
   "source": [
    "dfTotalJourney.drop(columns=['month','hour','weekday'], inplace=True)"
   ]
  },
  {
   "cell_type": "code",
   "execution_count": null,
   "id": "0b699e57",
   "metadata": {},
   "outputs": [],
   "source": [
    "dfTotalJourney.head(3)"
   ]
  },
  {
   "cell_type": "code",
   "execution_count": null,
   "id": "5da5cd91",
   "metadata": {},
   "outputs": [],
   "source": [
    "for i in dfTotalJourney:\n",
    "    dfTotalJourney[i] = dfTotalJourney[i].astype('int')"
   ]
  },
  {
   "cell_type": "code",
   "execution_count": null,
   "id": "dc14e272",
   "metadata": {},
   "outputs": [],
   "source": [
    "Xfeatures = dfTotalJourney.columns[dfTotalJourney.columns != 'journeytime']\n",
    "Xfeatures = Xfeatures.drop(['humidity'])\n",
    "X = dfTotalJourney[Xfeatures] #separate target feature from predicitve features for train test split\n",
    "y = dfTotalJourney.journeytime\n",
    "\n",
    "Xtrain, Xtest, ytrain, ytest = train_test_split(X, y, test_size=0.3, random_state=1)"
   ]
  },
  {
   "cell_type": "code",
   "execution_count": null,
   "id": "7c010de3",
   "metadata": {
    "scrolled": true
   },
   "outputs": [],
   "source": [
    "lmodel = LinearRegression().fit(Xtrain, ytrain)\n",
    "rfc = RandomForestRegressor(oob_score=True, random_state=1)\n",
    "rfc.fit(Xtrain, ytrain)\n",
    "knn = KNeighborsRegressor().fit(Xtrain, ytrain)"
   ]
  },
  {
   "cell_type": "code",
   "execution_count": null,
   "id": "9f92f0f9",
   "metadata": {
    "scrolled": true
   },
   "outputs": [],
   "source": [
    "featureImportance = pd.DataFrame({'feature': Xfeatures, 'importance':lmodel.coef_})\n",
    "featureImportance.sort_values('importance', ascending=False)"
   ]
  },
  {
   "cell_type": "code",
   "execution_count": null,
   "id": "bdd4f073",
   "metadata": {},
   "outputs": [],
   "source": [
    "trainPredictions = lmodel.predict(Xtest)\n",
    "rfcPrediction = rfc.predict(Xtest)\n",
    "knnPrediction = knn.predict(Xtest)"
   ]
  },
  {
   "cell_type": "code",
   "execution_count": null,
   "id": "cb68afc1",
   "metadata": {},
   "outputs": [],
   "source": [
    "trueVsPredicted = pd.concat([ytest, pd.DataFrame(trainPredictions, columns=['Linear'], index=Xtest.index)], axis=1)\n",
    "trueVsPredicted.head(5)"
   ]
  },
  {
   "cell_type": "code",
   "execution_count": null,
   "id": "daffeefd",
   "metadata": {},
   "outputs": [],
   "source": [
    "print('Linear Regression:')\n",
    "printMetrics(ytest, trainPredictions)\n",
    "print('\\nRandom Forest:')\n",
    "printMetrics(ytest, rfcPrediction)\n",
    "print('\\nk-Nearest Neighbours:')\n",
    "printMetrics(ytest,knnPrediction)"
   ]
  },
  {
   "cell_type": "markdown",
   "id": "30007ee7",
   "metadata": {},
   "source": [
    "# Models for time taken to reach each stop"
   ]
  },
  {
   "cell_type": "code",
   "execution_count": null,
   "id": "13e80d9d",
   "metadata": {},
   "outputs": [],
   "source": [
    "dfAllStops = df.drop(columns = ['stopActualArr','rain','temp','pressure','dwelltime'])"
   ]
  },
  {
   "cell_type": "code",
   "execution_count": null,
   "id": "01e3caa5",
   "metadata": {},
   "outputs": [],
   "source": [
    "dfAllStops.hour %= 24\n",
    "dfAllStops.head(3)"
   ]
  },
  {
   "cell_type": "code",
   "execution_count": null,
   "id": "d37b9b40",
   "metadata": {},
   "outputs": [],
   "source": [
    "dfAllStops.month = dfAllStops.month.astype('category')\n",
    "dfAllStops.hour = dfAllStops.hour.astype('category')\n",
    "dfAllStops.weekday = dfAllStops.weekday.astype('category')"
   ]
  },
  {
   "cell_type": "code",
   "execution_count": null,
   "id": "9019f4c3",
   "metadata": {},
   "outputs": [],
   "source": [
    "monthDummies = pd.get_dummies(dfAllStops.month, prefix='m', drop_first=True)\n",
    "hourDummies = pd.get_dummies(dfAllStops.hour,prefix='h', drop_first=True)\n",
    "dayDummies = pd.get_dummies(dfAllStops.weekday, prefix='d', drop_first=True)"
   ]
  },
  {
   "cell_type": "code",
   "execution_count": null,
   "id": "30070d13",
   "metadata": {},
   "outputs": [],
   "source": [
    "dfAllStops = pd.concat([dfAllStops,monthDummies,hourDummies,dayDummies], axis=1)\n",
    "dfAllStops.drop(columns=['month','hour','weekday'], inplace=True)\n",
    "dfAllStops.head(3)"
   ]
  },
  {
   "cell_type": "code",
   "execution_count": null,
   "id": "e31aed47",
   "metadata": {},
   "outputs": [],
   "source": [
    "for i in dfAllStops:\n",
    "    dfAllStops[i] = dfAllStops[i].astype('int')"
   ]
  },
  {
   "cell_type": "code",
   "execution_count": null,
   "id": "738e7694",
   "metadata": {},
   "outputs": [],
   "source": [
    "Xfeatures = dfAllStops.columns[dfAllStops.columns != 'journeytime']\n",
    "Xfeatures = Xfeatures.drop(['date','tripid','humidity']) #removed humidity due to low effect\n",
    "X = dfAllStops[Xfeatures] #separate target feature from predicitve features for train test split\n",
    "y = dfAllStops.journeytime\n",
    "\n",
    "Xtrain, Xtest, ytrain, ytest = train_test_split(X, y, test_size=0.7, random_state=1)"
   ]
  },
  {
   "cell_type": "code",
   "execution_count": null,
   "id": "dfdf6a1d",
   "metadata": {},
   "outputs": [],
   "source": [
    "l2model = LinearRegression().fit(Xtrain, ytrain)\n",
    "rfc = RandomForestRegressor(n_estimators=100, oob_score=True, random_state=1)\n",
    "rfc.fit(Xtrain,ytrain)"
   ]
  },
  {
   "cell_type": "code",
   "execution_count": null,
   "id": "3478e82a",
   "metadata": {},
   "outputs": [],
   "source": [
    "knn = KNeighborsRegressor().fit(Xtrain, ytrain)"
   ]
  },
  {
   "cell_type": "code",
   "execution_count": null,
   "id": "547ced75",
   "metadata": {},
   "outputs": [],
   "source": [
    "trainPredictions = l2model.predict(Xtest)\n",
    "rfcPrediction = rfc.predict(Xtest)"
   ]
  },
  {
   "cell_type": "code",
   "execution_count": null,
   "id": "642fd83b",
   "metadata": {},
   "outputs": [],
   "source": [
    "knnPrediction = knn.predict(Xtest)"
   ]
  },
  {
   "cell_type": "code",
   "execution_count": null,
   "id": "495b1a14",
   "metadata": {
    "scrolled": true
   },
   "outputs": [],
   "source": [
    "featureImportance = pd.DataFrame({'feature': Xfeatures, 'importance':l2model.coef_})\n",
    "featureImportance.sort_values('importance', ascending=False)"
   ]
  },
  {
   "cell_type": "code",
   "execution_count": null,
   "id": "c2f8857a",
   "metadata": {},
   "outputs": [],
   "source": [
    "trueVsPredicted = pd.concat([ytest, pd.DataFrame(trainPredictions, columns=['Predicted'], index=Xtest.index)], axis=1)\n",
    "trueVsPredicted.head(5)"
   ]
  },
  {
   "cell_type": "code",
   "execution_count": 43,
   "id": "27ec500c",
   "metadata": {},
   "outputs": [
    {
     "name": "stdout",
     "output_type": "stream",
     "text": [
      "Linear Regression:\n",
      "MAE:  315.85570469084615\n",
      "RMSE:  452.67629733580327\n",
      "R2:  0.9185367661119411\n",
      "\n",
      "Random Forest:\n",
      "MAE:  184.6873186101612\n",
      "RMSE:  303.88273904347244\n",
      "R2:  0.9632888320867619\n"
     ]
    }
   ],
   "source": [
    "print('Linear Regression:')\n",
    "printMetrics(ytest, trainPredictions)\n",
    "print('\\nRandom Forest:')\n",
    "printMetrics(ytest, rfcPrediction)\n",
    "# print('\\nk-Nearest Neighbours:')\n",
    "# printMetrics(ytest,knnPrediction)"
   ]
  },
  {
   "cell_type": "code",
   "execution_count": 76,
   "id": "472f7ecc",
   "metadata": {},
   "outputs": [
    {
     "name": "stdout",
     "output_type": "stream",
     "text": [
      "Linear Regression:\n",
      "MAE:  316.06802088909933\n",
      "RMSE:  451.36491830460415\n",
      "R2:  0.9187967304287481\n",
      "\n",
      "Random Forest:\n",
      "MAE:  258.4394287954046\n",
      "RMSE:  412.7695674612088\n",
      "R2:  0.9320900744524375\n",
      "\n",
      "k-Nearest Neighbours:\n",
      "MAE:  297.7337470999046\n",
      "RMSE:  456.1813729548733\n",
      "R2:  0.9170544655756778\n"
     ]
    }
   ],
   "source": [
    "print('Linear Regression:')\n",
    "printMetrics(ytest, trainPredictions)\n",
    "print('\\nRandom Forest:')\n",
    "printMetrics(ytest, rfcPrediction)\n",
    "print('\\nk-Nearest Neighbours:')\n",
    "printMetrics(ytest,knnPrediction)"
   ]
  },
  {
   "cell_type": "code",
   "execution_count": null,
   "id": "0d4dfea5",
   "metadata": {},
   "outputs": [],
   "source": []
  }
 ],
 "metadata": {
  "kernelspec": {
   "display_name": "Python 3 (ipykernel)",
   "language": "python",
   "name": "python3"
  },
  "language_info": {
   "codemirror_mode": {
    "name": "ipython",
    "version": 3
   },
   "file_extension": ".py",
   "mimetype": "text/x-python",
   "name": "python",
   "nbconvert_exporter": "python",
   "pygments_lexer": "ipython3",
   "version": "3.10.4"
  }
 },
 "nbformat": 4,
 "nbformat_minor": 5
}
