{
 "cells": [
  {
   "cell_type": "code",
   "execution_count": 1,
   "id": "3f00e4ad",
   "metadata": {},
   "outputs": [],
   "source": [
    "import pandas as pd\n",
    "import pickle\n",
    "import sqlalchemy\n",
    "import pymysql\n",
    "import os\n",
    "from urllib.parse import quote\n",
    "from cleaningScript import cleanDatav2\n",
    "from dotenv import load_dotenv\n",
    "from sklearn.ensemble import RandomForestRegressor"
   ]
  },
  {
   "cell_type": "code",
   "execution_count": 2,
   "id": "b7c6700d",
   "metadata": {},
   "outputs": [],
   "source": [
    "load_dotenv()\n",
    "password = os.getenv('DB_PASSWORD')"
   ]
  },
  {
   "cell_type": "code",
   "execution_count": 3,
   "id": "27d2be4e",
   "metadata": {},
   "outputs": [],
   "source": [
    "DBengine = sqlalchemy.create_engine(\"mysql+pymysql://student:{}@localhost:3306/dublinbus\".format(quote(password)))"
   ]
  },
  {
   "cell_type": "code",
   "execution_count": 4,
   "id": "f4428b1b",
   "metadata": {},
   "outputs": [],
   "source": [
    "dfBase = pd.read_sql('call dublinbus.all_lines_directions();', DBengine) #using stored procedure"
   ]
  },
  {
   "cell_type": "code",
   "execution_count": 5,
   "id": "ec754594",
   "metadata": {},
   "outputs": [],
   "source": [
    "lines = dfBase.values.tolist()"
   ]
  },
  {
   "cell_type": "code",
   "execution_count": null,
   "id": "eec3801f",
   "metadata": {},
   "outputs": [
    {
     "name": "stdout",
     "output_type": "stream",
     "text": [
      "route: 14 1\n",
      "loaded!\n",
      "ready!\n"
     ]
    }
   ],
   "source": [
    "for line,direction in lines:\n",
    "    print('route:',line, direction)\n",
    "    df = cleanDatav2(line,direction)\n",
    "    print('loaded!')\n",
    "    df['weekday'] = df.date.dt.weekday\n",
    "    df['month'] = df.date.dt.month\n",
    "    df['hour'] = (df.stopActualArr//3600)\n",
    "    df = df.drop(columns = ['stopActualArr','rain','temp','pressure','dwelltime'])\n",
    "    df.hour %= 24\n",
    "    df.month = df.month.astype('category')\n",
    "    df.hour = df.hour.astype('category')\n",
    "    df.weekday = df.weekday.astype('category')\n",
    "    monthDummies = pd.get_dummies(df.month, prefix='m', drop_first=True)\n",
    "    hourDummies = pd.get_dummies(df.hour,prefix='h', drop_first=True)\n",
    "    dayDummies = pd.get_dummies(df.weekday, prefix='d', drop_first=True)\n",
    "    df = pd.concat([df,monthDummies,hourDummies,dayDummies], axis=1)\n",
    "    df.drop(columns=['month','hour','weekday'], inplace=True)\n",
    "    Xfeatures = df.columns[df.columns != 'journeytime']\n",
    "    Xfeatures = Xfeatures.drop(['date','tripid','humidity'])\n",
    "    X = df[Xfeatures]\n",
    "    y = df.journeytime\n",
    "    print('ready!')\n",
    "    rfc = RandomForestRegressor(n_estimators=100, oob_score=True, random_state=1, n_jobs=-1)\n",
    "    rfc.fit(X,y)\n",
    "    print('saving!')\n",
    "    with open('models/model{}_{}.pkl'.format(line,direction),'wb') as file:\n",
    "        pickle.dump(rfc,file, pickle.HIGHEST_PROTOCOL)"
   ]
  },
  {
   "cell_type": "code",
   "execution_count": null,
   "id": "64555d0d",
   "metadata": {},
   "outputs": [],
   "source": []
  }
 ],
 "metadata": {
  "kernelspec": {
   "display_name": "Python 3 (ipykernel)",
   "language": "python",
   "name": "python3"
  },
  "language_info": {
   "codemirror_mode": {
    "name": "ipython",
    "version": 3
   },
   "file_extension": ".py",
   "mimetype": "text/x-python",
   "name": "python",
   "nbconvert_exporter": "python",
   "pygments_lexer": "ipython3",
   "version": "3.10.4"
  }
 },
 "nbformat": 4,
 "nbformat_minor": 5
}
