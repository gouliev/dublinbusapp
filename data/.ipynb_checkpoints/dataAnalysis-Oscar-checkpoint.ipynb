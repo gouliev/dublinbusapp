{
 "cells": [
  {
   "cell_type": "code",
   "execution_count": 2,
   "id": "9f286f87",
   "metadata": {},
   "outputs": [],
   "source": [
    "import pandas as pd\n",
    "import matplotlib.pyplot as plt\n",
    "import numpy as np\n",
    "from sklearn.model_selection import train_test_split\n",
    "import sklearn.metrics\n",
    "from sklearn.linear_model import LinearRegression\n",
    "from sklearn.ensemble import RandomForestClassifier, RandomForestRegressor\n",
    "from cleaningScript import cleanData # I <3 encapsulation"
   ]
  },
  {
   "cell_type": "code",
   "execution_count": 3,
   "id": "6daba04c",
   "metadata": {},
   "outputs": [],
   "source": [
    "#function to calculate metrics quickly\n",
    "def printMetrics(testActualVal, predictions):\n",
    "    print(\"MAE: \", sklearn.metrics.mean_absolute_error(testActualVal, predictions))\n",
    "    print(\"RMSE: \", sklearn.metrics.mean_squared_error(testActualVal, predictions)**0.5)\n",
    "    print(\"R2: \", sklearn.metrics.r2_score(testActualVal, predictions))"
   ]
  },
  {
   "cell_type": "code",
   "execution_count": 4,
   "id": "f51367d0",
   "metadata": {},
   "outputs": [],
   "source": [
    "route, direction = '84', 1"
   ]
  },
  {
   "cell_type": "code",
   "execution_count": 5,
   "id": "8077e33f",
   "metadata": {},
   "outputs": [],
   "source": [
    "df = cleanData(route, direction)"
   ]
  },
  {
   "cell_type": "code",
   "execution_count": 6,
   "id": "58d800ac",
   "metadata": {},
   "outputs": [
    {
     "name": "stdout",
     "output_type": "stream",
     "text": [
      "366356 rows\n"
     ]
    },
    {
     "data": {
      "text/html": [
       "<div>\n",
       "<style scoped>\n",
       "    .dataframe tbody tr th:only-of-type {\n",
       "        vertical-align: middle;\n",
       "    }\n",
       "\n",
       "    .dataframe tbody tr th {\n",
       "        vertical-align: top;\n",
       "    }\n",
       "\n",
       "    .dataframe thead th {\n",
       "        text-align: right;\n",
       "    }\n",
       "</style>\n",
       "<table border=\"1\" class=\"dataframe\">\n",
       "  <thead>\n",
       "    <tr style=\"text-align: right;\">\n",
       "      <th></th>\n",
       "      <th>date</th>\n",
       "      <th>tripid</th>\n",
       "      <th>progrnumber</th>\n",
       "      <th>stopActualArr</th>\n",
       "      <th>journeytime</th>\n",
       "      <th>dwelltime</th>\n",
       "      <th>rain</th>\n",
       "      <th>temp</th>\n",
       "      <th>humidity</th>\n",
       "      <th>pressure</th>\n",
       "    </tr>\n",
       "  </thead>\n",
       "  <tbody>\n",
       "    <tr>\n",
       "      <th>0</th>\n",
       "      <td>2018-01-01</td>\n",
       "      <td>5955785</td>\n",
       "      <td>1</td>\n",
       "      <td>36583</td>\n",
       "      <td>0</td>\n",
       "      <td>0</td>\n",
       "      <td>0.0</td>\n",
       "      <td>5.6</td>\n",
       "      <td>79</td>\n",
       "      <td>992.9</td>\n",
       "    </tr>\n",
       "    <tr>\n",
       "      <th>1</th>\n",
       "      <td>2018-01-01</td>\n",
       "      <td>5955785</td>\n",
       "      <td>2</td>\n",
       "      <td>36617</td>\n",
       "      <td>34</td>\n",
       "      <td>12</td>\n",
       "      <td>0.0</td>\n",
       "      <td>5.6</td>\n",
       "      <td>79</td>\n",
       "      <td>992.9</td>\n",
       "    </tr>\n",
       "    <tr>\n",
       "      <th>2</th>\n",
       "      <td>2018-01-01</td>\n",
       "      <td>5955785</td>\n",
       "      <td>3</td>\n",
       "      <td>36721</td>\n",
       "      <td>138</td>\n",
       "      <td>0</td>\n",
       "      <td>0.0</td>\n",
       "      <td>5.6</td>\n",
       "      <td>79</td>\n",
       "      <td>992.9</td>\n",
       "    </tr>\n",
       "  </tbody>\n",
       "</table>\n",
       "</div>"
      ],
      "text/plain": [
       "        date   tripid  progrnumber  stopActualArr  journeytime  dwelltime  \\\n",
       "0 2018-01-01  5955785            1          36583            0          0   \n",
       "1 2018-01-01  5955785            2          36617           34         12   \n",
       "2 2018-01-01  5955785            3          36721          138          0   \n",
       "\n",
       "   rain  temp  humidity  pressure  \n",
       "0   0.0   5.6        79     992.9  \n",
       "1   0.0   5.6        79     992.9  \n",
       "2   0.0   5.6        79     992.9  "
      ]
     },
     "execution_count": 6,
     "metadata": {},
     "output_type": "execute_result"
    }
   ],
   "source": [
    "print(len(df),  \"rows\")\n",
    "df.head(3)"
   ]
  },
  {
   "cell_type": "code",
   "execution_count": 7,
   "id": "3a96055f",
   "metadata": {},
   "outputs": [
    {
     "data": {
      "text/html": [
       "<div>\n",
       "<style scoped>\n",
       "    .dataframe tbody tr th:only-of-type {\n",
       "        vertical-align: middle;\n",
       "    }\n",
       "\n",
       "    .dataframe tbody tr th {\n",
       "        vertical-align: top;\n",
       "    }\n",
       "\n",
       "    .dataframe thead th {\n",
       "        text-align: right;\n",
       "    }\n",
       "</style>\n",
       "<table border=\"1\" class=\"dataframe\">\n",
       "  <thead>\n",
       "    <tr style=\"text-align: right;\">\n",
       "      <th></th>\n",
       "      <th>date</th>\n",
       "      <th>tripid</th>\n",
       "      <th>progrnumber</th>\n",
       "      <th>stopActualArr</th>\n",
       "      <th>journeytime</th>\n",
       "      <th>dwelltime</th>\n",
       "      <th>rain</th>\n",
       "      <th>temp</th>\n",
       "      <th>humidity</th>\n",
       "      <th>pressure</th>\n",
       "      <th>weekday</th>\n",
       "      <th>month</th>\n",
       "      <th>hour</th>\n",
       "    </tr>\n",
       "  </thead>\n",
       "  <tbody>\n",
       "    <tr>\n",
       "      <th>0</th>\n",
       "      <td>2018-01-01</td>\n",
       "      <td>5955785</td>\n",
       "      <td>1</td>\n",
       "      <td>36583</td>\n",
       "      <td>0</td>\n",
       "      <td>0</td>\n",
       "      <td>0.0</td>\n",
       "      <td>5.6</td>\n",
       "      <td>79</td>\n",
       "      <td>992.9</td>\n",
       "      <td>0</td>\n",
       "      <td>1</td>\n",
       "      <td>10</td>\n",
       "    </tr>\n",
       "    <tr>\n",
       "      <th>1</th>\n",
       "      <td>2018-01-01</td>\n",
       "      <td>5955785</td>\n",
       "      <td>2</td>\n",
       "      <td>36617</td>\n",
       "      <td>34</td>\n",
       "      <td>12</td>\n",
       "      <td>0.0</td>\n",
       "      <td>5.6</td>\n",
       "      <td>79</td>\n",
       "      <td>992.9</td>\n",
       "      <td>0</td>\n",
       "      <td>1</td>\n",
       "      <td>10</td>\n",
       "    </tr>\n",
       "    <tr>\n",
       "      <th>2</th>\n",
       "      <td>2018-01-01</td>\n",
       "      <td>5955785</td>\n",
       "      <td>3</td>\n",
       "      <td>36721</td>\n",
       "      <td>138</td>\n",
       "      <td>0</td>\n",
       "      <td>0.0</td>\n",
       "      <td>5.6</td>\n",
       "      <td>79</td>\n",
       "      <td>992.9</td>\n",
       "      <td>0</td>\n",
       "      <td>1</td>\n",
       "      <td>10</td>\n",
       "    </tr>\n",
       "  </tbody>\n",
       "</table>\n",
       "</div>"
      ],
      "text/plain": [
       "        date   tripid  progrnumber  stopActualArr  journeytime  dwelltime  \\\n",
       "0 2018-01-01  5955785            1          36583            0          0   \n",
       "1 2018-01-01  5955785            2          36617           34         12   \n",
       "2 2018-01-01  5955785            3          36721          138          0   \n",
       "\n",
       "   rain  temp  humidity  pressure  weekday  month  hour  \n",
       "0   0.0   5.6        79     992.9        0      1    10  \n",
       "1   0.0   5.6        79     992.9        0      1    10  \n",
       "2   0.0   5.6        79     992.9        0      1    10  "
      ]
     },
     "execution_count": 7,
     "metadata": {},
     "output_type": "execute_result"
    }
   ],
   "source": [
    "df['weekday'] = df.date.dt.weekday\n",
    "df['month'] = df.date.dt.month\n",
    "df['hour'] = (df.stopActualArr//3600)\n",
    "df.head(3)"
   ]
  },
  {
   "cell_type": "markdown",
   "id": "0c51cc6e",
   "metadata": {},
   "source": [
    "## Journey time vs Progrnumber"
   ]
  },
  {
   "cell_type": "code",
   "execution_count": 8,
   "id": "e2c4fe89",
   "metadata": {},
   "outputs": [
    {
     "data": {
      "image/png": "[encoded data removed]",
      "text/plain": [
       "<Figure size 720x360 with 1 Axes>"
      ]
     },
     "metadata": {
      "needs_background": "light"
     },
     "output_type": "display_data"
    }
   ],
   "source": [
    "plt.figure(figsize=(10, 5))\n",
    "plt.scatter(df.progrnumber, df.journeytime)\n",
    "plt.grid()"
   ]
  },
  {
   "cell_type": "markdown",
   "id": "d50ba83e",
   "metadata": {},
   "source": [
    "Journey times are sometimes negative. Removing any stop from a journey that had a negative journey time anywhere as the whole trip could be offset"
   ]
  },
  {
   "cell_type": "code",
   "execution_count": 9,
   "id": "33936901",
   "metadata": {},
   "outputs": [
    {
     "name": "stdout",
     "output_type": "stream",
     "text": [
      "363904 rows\n"
     ]
    }
   ],
   "source": [
    "dftmp = df[(df.journeytime <= 0) & (df.progrnumber > 1)]\n",
    "df = df[~df['date'].isin(dftmp['date']) | ~df['tripid'].isin(dftmp['tripid'])]\n",
    "print(len(df),  \"rows\")"
   ]
  },
  {
   "cell_type": "code",
   "execution_count": 10,
   "id": "e11d66f2",
   "metadata": {
    "scrolled": false
   },
   "outputs": [
    {
     "data": {
      "image/png": "[encoded data removed]",
      "text/plain": [
       "<Figure size 720x360 with 1 Axes>"
      ]
     },
     "metadata": {
      "needs_background": "light"
     },
     "output_type": "display_data"
    }
   ],
   "source": [
    "plt.figure(figsize=(10,5))\n",
    "plt.scatter(df.progrnumber, df.journeytime)\n",
    "plt.grid()"
   ]
  },
  {
   "cell_type": "markdown",
   "id": "b8ea889c",
   "metadata": {},
   "source": [
    "## Journey time vs Month"
   ]
  },
  {
   "cell_type": "code",
   "execution_count": 11,
   "id": "b40b3e5b",
   "metadata": {},
   "outputs": [
    {
     "data": {
      "text/html": [
       "<div>\n",
       "<style scoped>\n",
       "    .dataframe tbody tr th:only-of-type {\n",
       "        vertical-align: middle;\n",
       "    }\n",
       "\n",
       "    .dataframe tbody tr th {\n",
       "        vertical-align: top;\n",
       "    }\n",
       "\n",
       "    .dataframe thead th {\n",
       "        text-align: right;\n",
       "    }\n",
       "</style>\n",
       "<table border=\"1\" class=\"dataframe\">\n",
       "  <thead>\n",
       "    <tr style=\"text-align: right;\">\n",
       "      <th></th>\n",
       "      <th></th>\n",
       "      <th>progrnumber</th>\n",
       "      <th>stopActualArr</th>\n",
       "      <th>journeytime</th>\n",
       "      <th>dwelltime</th>\n",
       "      <th>rain</th>\n",
       "      <th>temp</th>\n",
       "      <th>humidity</th>\n",
       "      <th>pressure</th>\n",
       "      <th>weekday</th>\n",
       "      <th>month</th>\n",
       "      <th>hour</th>\n",
       "    </tr>\n",
       "    <tr>\n",
       "      <th>date</th>\n",
       "      <th>tripid</th>\n",
       "      <th></th>\n",
       "      <th></th>\n",
       "      <th></th>\n",
       "      <th></th>\n",
       "      <th></th>\n",
       "      <th></th>\n",
       "      <th></th>\n",
       "      <th></th>\n",
       "      <th></th>\n",
       "      <th></th>\n",
       "      <th></th>\n",
       "    </tr>\n",
       "  </thead>\n",
       "  <tbody>\n",
       "    <tr>\n",
       "      <th rowspan=\"5\" valign=\"top\">2018-01-01</th>\n",
       "      <th>5955785</th>\n",
       "      <td>86</td>\n",
       "      <td>41351</td>\n",
       "      <td>4768</td>\n",
       "      <td>647</td>\n",
       "      <td>0.0</td>\n",
       "      <td>6.7</td>\n",
       "      <td>79</td>\n",
       "      <td>994.1</td>\n",
       "      <td>0</td>\n",
       "      <td>1</td>\n",
       "      <td>11</td>\n",
       "    </tr>\n",
       "    <tr>\n",
       "      <th>5955787</th>\n",
       "      <td>89</td>\n",
       "      <td>51000</td>\n",
       "      <td>4788</td>\n",
       "      <td>451</td>\n",
       "      <td>0.2</td>\n",
       "      <td>7.5</td>\n",
       "      <td>81</td>\n",
       "      <td>998.3</td>\n",
       "      <td>0</td>\n",
       "      <td>1</td>\n",
       "      <td>14</td>\n",
       "    </tr>\n",
       "    <tr>\n",
       "      <th>5955789</th>\n",
       "      <td>86</td>\n",
       "      <td>60201</td>\n",
       "      <td>4337</td>\n",
       "      <td>194</td>\n",
       "      <td>0.0</td>\n",
       "      <td>7.3</td>\n",
       "      <td>75</td>\n",
       "      <td>1001.9</td>\n",
       "      <td>0</td>\n",
       "      <td>1</td>\n",
       "      <td>16</td>\n",
       "    </tr>\n",
       "    <tr>\n",
       "      <th>5955791</th>\n",
       "      <td>86</td>\n",
       "      <td>70188</td>\n",
       "      <td>4768</td>\n",
       "      <td>214</td>\n",
       "      <td>0.0</td>\n",
       "      <td>5.7</td>\n",
       "      <td>81</td>\n",
       "      <td>1006.2</td>\n",
       "      <td>0</td>\n",
       "      <td>1</td>\n",
       "      <td>19</td>\n",
       "    </tr>\n",
       "    <tr>\n",
       "      <th>5955793</th>\n",
       "      <td>86</td>\n",
       "      <td>79206</td>\n",
       "      <td>4279</td>\n",
       "      <td>748</td>\n",
       "      <td>0.0</td>\n",
       "      <td>5.0</td>\n",
       "      <td>79</td>\n",
       "      <td>1008.5</td>\n",
       "      <td>0</td>\n",
       "      <td>1</td>\n",
       "      <td>22</td>\n",
       "    </tr>\n",
       "    <tr>\n",
       "      <th>...</th>\n",
       "      <th>...</th>\n",
       "      <td>...</td>\n",
       "      <td>...</td>\n",
       "      <td>...</td>\n",
       "      <td>...</td>\n",
       "      <td>...</td>\n",
       "      <td>...</td>\n",
       "      <td>...</td>\n",
       "      <td>...</td>\n",
       "      <td>...</td>\n",
       "      <td>...</td>\n",
       "      <td>...</td>\n",
       "    </tr>\n",
       "    <tr>\n",
       "      <th rowspan=\"5\" valign=\"top\">2018-10-27</th>\n",
       "      <th>8059369</th>\n",
       "      <td>87</td>\n",
       "      <td>28872</td>\n",
       "      <td>4862</td>\n",
       "      <td>1288</td>\n",
       "      <td>0.0</td>\n",
       "      <td>2.8</td>\n",
       "      <td>80</td>\n",
       "      <td>1022.5</td>\n",
       "      <td>5</td>\n",
       "      <td>10</td>\n",
       "      <td>8</td>\n",
       "    </tr>\n",
       "    <tr>\n",
       "      <th>8059371</th>\n",
       "      <td>90</td>\n",
       "      <td>43511</td>\n",
       "      <td>4996</td>\n",
       "      <td>442</td>\n",
       "      <td>0.0</td>\n",
       "      <td>7.2</td>\n",
       "      <td>64</td>\n",
       "      <td>1023.0</td>\n",
       "      <td>5</td>\n",
       "      <td>10</td>\n",
       "      <td>12</td>\n",
       "    </tr>\n",
       "    <tr>\n",
       "      <th>8059373</th>\n",
       "      <td>86</td>\n",
       "      <td>56025</td>\n",
       "      <td>5660</td>\n",
       "      <td>170</td>\n",
       "      <td>0.0</td>\n",
       "      <td>6.9</td>\n",
       "      <td>59</td>\n",
       "      <td>1022.7</td>\n",
       "      <td>5</td>\n",
       "      <td>10</td>\n",
       "      <td>15</td>\n",
       "    </tr>\n",
       "    <tr>\n",
       "      <th>8059375</th>\n",
       "      <td>87</td>\n",
       "      <td>68567</td>\n",
       "      <td>5332</td>\n",
       "      <td>469</td>\n",
       "      <td>0.0</td>\n",
       "      <td>4.9</td>\n",
       "      <td>68</td>\n",
       "      <td>1025.1</td>\n",
       "      <td>5</td>\n",
       "      <td>10</td>\n",
       "      <td>19</td>\n",
       "    </tr>\n",
       "    <tr>\n",
       "      <th>8059377</th>\n",
       "      <td>87</td>\n",
       "      <td>80754</td>\n",
       "      <td>5136</td>\n",
       "      <td>1193</td>\n",
       "      <td>0.0</td>\n",
       "      <td>1.9</td>\n",
       "      <td>74</td>\n",
       "      <td>1026.3</td>\n",
       "      <td>5</td>\n",
       "      <td>10</td>\n",
       "      <td>22</td>\n",
       "    </tr>\n",
       "  </tbody>\n",
       "</table>\n",
       "<p>4318 rows × 11 columns</p>\n",
       "</div>"
      ],
      "text/plain": [
       "                    progrnumber  stopActualArr  journeytime  dwelltime  rain  \\\n",
       "date       tripid                                                              \n",
       "2018-01-01 5955785           86          41351         4768        647   0.0   \n",
       "           5955787           89          51000         4788        451   0.2   \n",
       "           5955789           86          60201         4337        194   0.0   \n",
       "           5955791           86          70188         4768        214   0.0   \n",
       "           5955793           86          79206         4279        748   0.0   \n",
       "...                         ...            ...          ...        ...   ...   \n",
       "2018-10-27 8059369           87          28872         4862       1288   0.0   \n",
       "           8059371           90          43511         4996        442   0.0   \n",
       "           8059373           86          56025         5660        170   0.0   \n",
       "           8059375           87          68567         5332        469   0.0   \n",
       "           8059377           87          80754         5136       1193   0.0   \n",
       "\n",
       "                    temp  humidity  pressure  weekday  month  hour  \n",
       "date       tripid                                                   \n",
       "2018-01-01 5955785   6.7        79     994.1        0      1    11  \n",
       "           5955787   7.5        81     998.3        0      1    14  \n",
       "           5955789   7.3        75    1001.9        0      1    16  \n",
       "           5955791   5.7        81    1006.2        0      1    19  \n",
       "           5955793   5.0        79    1008.5        0      1    22  \n",
       "...                  ...       ...       ...      ...    ...   ...  \n",
       "2018-10-27 8059369   2.8        80    1022.5        5     10     8  \n",
       "           8059371   7.2        64    1023.0        5     10    12  \n",
       "           8059373   6.9        59    1022.7        5     10    15  \n",
       "           8059375   4.9        68    1025.1        5     10    19  \n",
       "           8059377   1.9        74    1026.3        5     10    22  \n",
       "\n",
       "[4318 rows x 11 columns]"
      ]
     },
     "execution_count": 11,
     "metadata": {},
     "output_type": "execute_result"
    }
   ],
   "source": [
    "dfTotalJourney = df.groupby(['date','tripid']).max() #get the max journey time for a stop on a trip ,i.e. the last stop\n",
    "dfTotalJourney"
   ]
  },
  {
   "cell_type": "code",
   "execution_count": 12,
   "id": "23542b32",
   "metadata": {},
   "outputs": [
    {
     "data": {
      "image/png": "[encoded data removed]",
      "text/plain": [
       "<Figure size 720x504 with 1 Axes>"
      ]
     },
     "metadata": {
      "needs_background": "light"
     },
     "output_type": "display_data"
    }
   ],
   "source": [
    "plt.rcParams[\"figure.figsize\"] = (10, 7)\n",
    "dfTotalJourney.assign(index=dfTotalJourney.groupby('month').cumcount()).pivot('index','month','journeytime').plot(kind='box')\n",
    "plt.grid()"
   ]
  },
  {
   "cell_type": "markdown",
   "id": "755e46a7",
   "metadata": {},
   "source": [
    "some small variation in the boxplots. Doesn't look very promising but not reason enough to exclude yet"
   ]
  },
  {
   "cell_type": "markdown",
   "id": "e2e08612",
   "metadata": {},
   "source": [
    "## Journey time vs Weekday"
   ]
  },
  {
   "cell_type": "code",
   "execution_count": 13,
   "id": "330e4438",
   "metadata": {},
   "outputs": [
    {
     "data": {
      "image/png": "[encoded data removed]",
      "text/plain": [
       "<Figure size 720x504 with 1 Axes>"
      ]
     },
     "metadata": {
      "needs_background": "light"
     },
     "output_type": "display_data"
    }
   ],
   "source": [
    "plt.rcParams[\"figure.figsize\"] = (10, 7)\n",
    "dfTotalJourney.assign(index=dfTotalJourney.groupby('weekday').cumcount()).pivot('index','weekday','journeytime').plot(kind='box')\n",
    "plt.grid()"
   ]
  },
  {
   "cell_type": "markdown",
   "id": "f76c89fa",
   "metadata": {},
   "source": [
    "more variation here for weekday, more promising particularly for the weekend"
   ]
  },
  {
   "cell_type": "markdown",
   "id": "4d9e0445",
   "metadata": {},
   "source": [
    "## Journey time vs Hour"
   ]
  },
  {
   "cell_type": "code",
   "execution_count": 14,
   "id": "f08f2b49",
   "metadata": {},
   "outputs": [],
   "source": [
    "dfTotalJourney.hour %= 24"
   ]
  },
  {
   "cell_type": "code",
   "execution_count": 15,
   "id": "cab8d845",
   "metadata": {},
   "outputs": [
    {
     "data": {
      "image/png": "[encoded data removed]",
      "text/plain": [
       "<Figure size 1440x504 with 1 Axes>"
      ]
     },
     "metadata": {
      "needs_background": "light"
     },
     "output_type": "display_data"
    }
   ],
   "source": [
    "plt.rcParams[\"figure.figsize\"] = (20, 7)\n",
    "dfTotalJourney.assign(index=dfTotalJourney.groupby('hour').cumcount()).pivot('index','hour','journeytime').plot(kind='box')\n",
    "plt.grid()"
   ]
  },
  {
   "cell_type": "markdown",
   "id": "84108fa4",
   "metadata": {},
   "source": [
    "some variation in the hour of the day the route finishes. appears to be cyclical, with 2 peaks and troughs. Maybe ausing some sort of trigonometric function or polynomial to model as well as having separate factors for each month."
   ]
  },
  {
   "cell_type": "markdown",
   "id": "59171c76",
   "metadata": {},
   "source": [
    "## Journey time vs Rain"
   ]
  },
  {
   "cell_type": "code",
   "execution_count": 16,
   "id": "67dba929",
   "metadata": {},
   "outputs": [
    {
     "data": {
      "image/png": "[encoded data removed]",
      "text/plain": [
       "<Figure size 720x360 with 1 Axes>"
      ]
     },
     "metadata": {
      "needs_background": "light"
     },
     "output_type": "display_data"
    }
   ],
   "source": [
    "plt.figure(figsize=(10,5))\n",
    "plt.scatter(dfTotalJourney.rain, dfTotalJourney.journeytime)\n",
    "plt.grid()"
   ]
  },
  {
   "cell_type": "markdown",
   "id": "1ef325fd",
   "metadata": {},
   "source": [
    "looks like a normal distribution of journey times. The heavier rain is just clumped around the mean. This doesn't appear to have much predictive power."
   ]
  },
  {
   "cell_type": "markdown",
   "id": "69f7d047",
   "metadata": {},
   "source": [
    "## Journey time vs Temperature"
   ]
  },
  {
   "cell_type": "code",
   "execution_count": 17,
   "id": "85d31751",
   "metadata": {},
   "outputs": [
    {
     "data": {
      "image/png": "[encoded data removed]",
      "text/plain": [
       "<Figure size 720x360 with 1 Axes>"
      ]
     },
     "metadata": {
      "needs_background": "light"
     },
     "output_type": "display_data"
    }
   ],
   "source": [
    "plt.figure(figsize=(10,5))\n",
    "plt.scatter(dfTotalJourney.temp, dfTotalJourney.journeytime)\n",
    "plt.grid()"
   ]
  },
  {
   "cell_type": "markdown",
   "id": "316f6205",
   "metadata": {},
   "source": [
    "looks like temperature doesn't have a correlation with the total journey time either, just clumped around the middle with no apparent relationship"
   ]
  },
  {
   "cell_type": "markdown",
   "id": "a27a6b75",
   "metadata": {},
   "source": [
    "## Journey time vs Humidity & Journey time vs Pressure"
   ]
  },
  {
   "cell_type": "code",
   "execution_count": 18,
   "id": "13eba295",
   "metadata": {},
   "outputs": [
    {
     "data": {
      "image/png": "[encoded data removed]",
      "text/plain": [
       "<Figure size 720x360 with 1 Axes>"
      ]
     },
     "metadata": {
      "needs_background": "light"
     },
     "output_type": "display_data"
    }
   ],
   "source": [
    "plt.figure(figsize=(10,5))\n",
    "plt.scatter(dfTotalJourney.humidity, dfTotalJourney.journeytime)\n",
    "plt.grid()"
   ]
  },
  {
   "cell_type": "code",
   "execution_count": 19,
   "id": "e1c5bb50",
   "metadata": {},
   "outputs": [
    {
     "data": {
      "image/png": "[encoded data removed]",
      "text/plain": [
       "<Figure size 720x360 with 1 Axes>"
      ]
     },
     "metadata": {
      "needs_background": "light"
     },
     "output_type": "display_data"
    }
   ],
   "source": [
    "plt.figure(figsize=(10,5))\n",
    "plt.scatter(dfTotalJourney.pressure, dfTotalJourney.journeytime)\n",
    "plt.grid()"
   ]
  },
  {
   "cell_type": "markdown",
   "id": "83eb93d7",
   "metadata": {},
   "source": [
    "First plot is humidity and appears to have a slight negative relationship with journey time so will look to see if it's useful.\n",
    "\n",
    "Second plot is pressure and doesn't appear to have any meaningful relationship to journey time. It's clumped aroun=d the centre like temperature"
   ]
  },
  {
   "cell_type": "markdown",
   "id": "314bd98f",
   "metadata": {},
   "source": [
    "# Linear regression model for total trip time"
   ]
  },
  {
   "cell_type": "code",
   "execution_count": 20,
   "id": "abe146e4",
   "metadata": {},
   "outputs": [
    {
     "data": {
      "text/html": [
       "<div>\n",
       "<style scoped>\n",
       "    .dataframe tbody tr th:only-of-type {\n",
       "        vertical-align: middle;\n",
       "    }\n",
       "\n",
       "    .dataframe tbody tr th {\n",
       "        vertical-align: top;\n",
       "    }\n",
       "\n",
       "    .dataframe thead th {\n",
       "        text-align: right;\n",
       "    }\n",
       "</style>\n",
       "<table border=\"1\" class=\"dataframe\">\n",
       "  <thead>\n",
       "    <tr style=\"text-align: right;\">\n",
       "      <th></th>\n",
       "      <th></th>\n",
       "      <th>progrnumber</th>\n",
       "      <th>stopActualArr</th>\n",
       "      <th>journeytime</th>\n",
       "      <th>dwelltime</th>\n",
       "      <th>rain</th>\n",
       "      <th>temp</th>\n",
       "      <th>humidity</th>\n",
       "      <th>pressure</th>\n",
       "      <th>weekday</th>\n",
       "      <th>month</th>\n",
       "      <th>hour</th>\n",
       "    </tr>\n",
       "    <tr>\n",
       "      <th>date</th>\n",
       "      <th>tripid</th>\n",
       "      <th></th>\n",
       "      <th></th>\n",
       "      <th></th>\n",
       "      <th></th>\n",
       "      <th></th>\n",
       "      <th></th>\n",
       "      <th></th>\n",
       "      <th></th>\n",
       "      <th></th>\n",
       "      <th></th>\n",
       "      <th></th>\n",
       "    </tr>\n",
       "  </thead>\n",
       "  <tbody>\n",
       "    <tr>\n",
       "      <th rowspan=\"3\" valign=\"top\">2018-01-01</th>\n",
       "      <th>5955785</th>\n",
       "      <td>86</td>\n",
       "      <td>41351</td>\n",
       "      <td>4768</td>\n",
       "      <td>647</td>\n",
       "      <td>0.0</td>\n",
       "      <td>6.7</td>\n",
       "      <td>79</td>\n",
       "      <td>994.1</td>\n",
       "      <td>0</td>\n",
       "      <td>1</td>\n",
       "      <td>11</td>\n",
       "    </tr>\n",
       "    <tr>\n",
       "      <th>5955787</th>\n",
       "      <td>89</td>\n",
       "      <td>51000</td>\n",
       "      <td>4788</td>\n",
       "      <td>451</td>\n",
       "      <td>0.2</td>\n",
       "      <td>7.5</td>\n",
       "      <td>81</td>\n",
       "      <td>998.3</td>\n",
       "      <td>0</td>\n",
       "      <td>1</td>\n",
       "      <td>14</td>\n",
       "    </tr>\n",
       "    <tr>\n",
       "      <th>5955789</th>\n",
       "      <td>86</td>\n",
       "      <td>60201</td>\n",
       "      <td>4337</td>\n",
       "      <td>194</td>\n",
       "      <td>0.0</td>\n",
       "      <td>7.3</td>\n",
       "      <td>75</td>\n",
       "      <td>1001.9</td>\n",
       "      <td>0</td>\n",
       "      <td>1</td>\n",
       "      <td>16</td>\n",
       "    </tr>\n",
       "  </tbody>\n",
       "</table>\n",
       "</div>"
      ],
      "text/plain": [
       "                    progrnumber  stopActualArr  journeytime  dwelltime  rain  \\\n",
       "date       tripid                                                              \n",
       "2018-01-01 5955785           86          41351         4768        647   0.0   \n",
       "           5955787           89          51000         4788        451   0.2   \n",
       "           5955789           86          60201         4337        194   0.0   \n",
       "\n",
       "                    temp  humidity  pressure  weekday  month  hour  \n",
       "date       tripid                                                   \n",
       "2018-01-01 5955785   6.7        79     994.1        0      1    11  \n",
       "           5955787   7.5        81     998.3        0      1    14  \n",
       "           5955789   7.3        75    1001.9        0      1    16  "
      ]
     },
     "execution_count": 20,
     "metadata": {},
     "output_type": "execute_result"
    }
   ],
   "source": [
    "dfTotalJourney.head(3)"
   ]
  },
  {
   "cell_type": "code",
   "execution_count": 21,
   "id": "4d6defff",
   "metadata": {},
   "outputs": [],
   "source": [
    "#removing rain, temp, pressure as no correlation is apparent\n",
    "#removing stopActualArr as journeytime is calculated from it\n",
    "#removing journeytime as I am modelling the total journey\n",
    "#dwelltime also removed as it is part of the journeytime and so can't be used to predict ahead of time\n",
    "#keeping date and tripid for ID purposes\n",
    "dfLinear = dfTotalJourney.drop(columns = ['stopActualArr','rain','temp','pressure','progrnumber','dwelltime'])"
   ]
  },
  {
   "cell_type": "code",
   "execution_count": 22,
   "id": "f5044413",
   "metadata": {},
   "outputs": [
    {
     "data": {
      "text/html": [
       "<div>\n",
       "<style scoped>\n",
       "    .dataframe tbody tr th:only-of-type {\n",
       "        vertical-align: middle;\n",
       "    }\n",
       "\n",
       "    .dataframe tbody tr th {\n",
       "        vertical-align: top;\n",
       "    }\n",
       "\n",
       "    .dataframe thead th {\n",
       "        text-align: right;\n",
       "    }\n",
       "</style>\n",
       "<table border=\"1\" class=\"dataframe\">\n",
       "  <thead>\n",
       "    <tr style=\"text-align: right;\">\n",
       "      <th></th>\n",
       "      <th></th>\n",
       "      <th>journeytime</th>\n",
       "      <th>humidity</th>\n",
       "      <th>weekday</th>\n",
       "      <th>month</th>\n",
       "      <th>hour</th>\n",
       "    </tr>\n",
       "    <tr>\n",
       "      <th>date</th>\n",
       "      <th>tripid</th>\n",
       "      <th></th>\n",
       "      <th></th>\n",
       "      <th></th>\n",
       "      <th></th>\n",
       "      <th></th>\n",
       "    </tr>\n",
       "  </thead>\n",
       "  <tbody>\n",
       "    <tr>\n",
       "      <th rowspan=\"3\" valign=\"top\">2018-01-01</th>\n",
       "      <th>5955785</th>\n",
       "      <td>4768</td>\n",
       "      <td>79</td>\n",
       "      <td>0</td>\n",
       "      <td>1</td>\n",
       "      <td>11</td>\n",
       "    </tr>\n",
       "    <tr>\n",
       "      <th>5955787</th>\n",
       "      <td>4788</td>\n",
       "      <td>81</td>\n",
       "      <td>0</td>\n",
       "      <td>1</td>\n",
       "      <td>14</td>\n",
       "    </tr>\n",
       "    <tr>\n",
       "      <th>5955789</th>\n",
       "      <td>4337</td>\n",
       "      <td>75</td>\n",
       "      <td>0</td>\n",
       "      <td>1</td>\n",
       "      <td>16</td>\n",
       "    </tr>\n",
       "  </tbody>\n",
       "</table>\n",
       "</div>"
      ],
      "text/plain": [
       "                    journeytime  humidity  weekday  month  hour\n",
       "date       tripid                                              \n",
       "2018-01-01 5955785         4768        79        0      1    11\n",
       "           5955787         4788        81        0      1    14\n",
       "           5955789         4337        75        0      1    16"
      ]
     },
     "execution_count": 22,
     "metadata": {},
     "output_type": "execute_result"
    }
   ],
   "source": [
    "dfLinear.head(3)"
   ]
  },
  {
   "cell_type": "code",
   "execution_count": 23,
   "id": "e065e635",
   "metadata": {},
   "outputs": [],
   "source": [
    "dfLinear.month = dfLinear.month.astype('category')\n",
    "dfLinear.hour = dfLinear.hour.astype('category')\n",
    "dfLinear.weekday = dfLinear.weekday.astype('category')"
   ]
  },
  {
   "cell_type": "code",
   "execution_count": 24,
   "id": "7cf6a95b",
   "metadata": {},
   "outputs": [],
   "source": [
    "monthlyDummies = pd.get_dummies(dfLinear.month, prefix='m', drop_first=True)\n",
    "hourlyDummies = pd.get_dummies(dfLinear.hour,prefix='h', drop_first=True)\n",
    "dailyDummies = pd.get_dummies(dfLinear.weekday, prefix='d', drop_first=True)"
   ]
  },
  {
   "cell_type": "code",
   "execution_count": 25,
   "id": "75656071",
   "metadata": {},
   "outputs": [],
   "source": [
    "dfLinear = pd.concat([dfLinear,monthlyDummies,hourlyDummies,dailyDummies], axis = 1)"
   ]
  },
  {
   "cell_type": "code",
   "execution_count": 26,
   "id": "c51d99f1",
   "metadata": {},
   "outputs": [],
   "source": [
    "dfLinear.drop(columns=['month','hour','weekday'], inplace=True)"
   ]
  },
  {
   "cell_type": "code",
   "execution_count": 27,
   "id": "0b699e57",
   "metadata": {},
   "outputs": [
    {
     "data": {
      "text/html": [
       "<div>\n",
       "<style scoped>\n",
       "    .dataframe tbody tr th:only-of-type {\n",
       "        vertical-align: middle;\n",
       "    }\n",
       "\n",
       "    .dataframe tbody tr th {\n",
       "        vertical-align: top;\n",
       "    }\n",
       "\n",
       "    .dataframe thead th {\n",
       "        text-align: right;\n",
       "    }\n",
       "</style>\n",
       "<table border=\"1\" class=\"dataframe\">\n",
       "  <thead>\n",
       "    <tr style=\"text-align: right;\">\n",
       "      <th></th>\n",
       "      <th></th>\n",
       "      <th>journeytime</th>\n",
       "      <th>humidity</th>\n",
       "      <th>m_2</th>\n",
       "      <th>m_3</th>\n",
       "      <th>m_4</th>\n",
       "      <th>m_5</th>\n",
       "      <th>m_6</th>\n",
       "      <th>m_7</th>\n",
       "      <th>m_8</th>\n",
       "      <th>m_9</th>\n",
       "      <th>...</th>\n",
       "      <th>h_20</th>\n",
       "      <th>h_21</th>\n",
       "      <th>h_22</th>\n",
       "      <th>h_23</th>\n",
       "      <th>d_1</th>\n",
       "      <th>d_2</th>\n",
       "      <th>d_3</th>\n",
       "      <th>d_4</th>\n",
       "      <th>d_5</th>\n",
       "      <th>d_6</th>\n",
       "    </tr>\n",
       "    <tr>\n",
       "      <th>date</th>\n",
       "      <th>tripid</th>\n",
       "      <th></th>\n",
       "      <th></th>\n",
       "      <th></th>\n",
       "      <th></th>\n",
       "      <th></th>\n",
       "      <th></th>\n",
       "      <th></th>\n",
       "      <th></th>\n",
       "      <th></th>\n",
       "      <th></th>\n",
       "      <th></th>\n",
       "      <th></th>\n",
       "      <th></th>\n",
       "      <th></th>\n",
       "      <th></th>\n",
       "      <th></th>\n",
       "      <th></th>\n",
       "      <th></th>\n",
       "      <th></th>\n",
       "      <th></th>\n",
       "      <th></th>\n",
       "    </tr>\n",
       "  </thead>\n",
       "  <tbody>\n",
       "    <tr>\n",
       "      <th rowspan=\"3\" valign=\"top\">2018-01-01</th>\n",
       "      <th>5955785</th>\n",
       "      <td>4768</td>\n",
       "      <td>79</td>\n",
       "      <td>0</td>\n",
       "      <td>0</td>\n",
       "      <td>0</td>\n",
       "      <td>0</td>\n",
       "      <td>0</td>\n",
       "      <td>0</td>\n",
       "      <td>0</td>\n",
       "      <td>0</td>\n",
       "      <td>...</td>\n",
       "      <td>0</td>\n",
       "      <td>0</td>\n",
       "      <td>0</td>\n",
       "      <td>0</td>\n",
       "      <td>0</td>\n",
       "      <td>0</td>\n",
       "      <td>0</td>\n",
       "      <td>0</td>\n",
       "      <td>0</td>\n",
       "      <td>0</td>\n",
       "    </tr>\n",
       "    <tr>\n",
       "      <th>5955787</th>\n",
       "      <td>4788</td>\n",
       "      <td>81</td>\n",
       "      <td>0</td>\n",
       "      <td>0</td>\n",
       "      <td>0</td>\n",
       "      <td>0</td>\n",
       "      <td>0</td>\n",
       "      <td>0</td>\n",
       "      <td>0</td>\n",
       "      <td>0</td>\n",
       "      <td>...</td>\n",
       "      <td>0</td>\n",
       "      <td>0</td>\n",
       "      <td>0</td>\n",
       "      <td>0</td>\n",
       "      <td>0</td>\n",
       "      <td>0</td>\n",
       "      <td>0</td>\n",
       "      <td>0</td>\n",
       "      <td>0</td>\n",
       "      <td>0</td>\n",
       "    </tr>\n",
       "    <tr>\n",
       "      <th>5955789</th>\n",
       "      <td>4337</td>\n",
       "      <td>75</td>\n",
       "      <td>0</td>\n",
       "      <td>0</td>\n",
       "      <td>0</td>\n",
       "      <td>0</td>\n",
       "      <td>0</td>\n",
       "      <td>0</td>\n",
       "      <td>0</td>\n",
       "      <td>0</td>\n",
       "      <td>...</td>\n",
       "      <td>0</td>\n",
       "      <td>0</td>\n",
       "      <td>0</td>\n",
       "      <td>0</td>\n",
       "      <td>0</td>\n",
       "      <td>0</td>\n",
       "      <td>0</td>\n",
       "      <td>0</td>\n",
       "      <td>0</td>\n",
       "      <td>0</td>\n",
       "    </tr>\n",
       "  </tbody>\n",
       "</table>\n",
       "<p>3 rows × 36 columns</p>\n",
       "</div>"
      ],
      "text/plain": [
       "                    journeytime  humidity  m_2  m_3  m_4  m_5  m_6  m_7  m_8  \\\n",
       "date       tripid                                                              \n",
       "2018-01-01 5955785         4768        79    0    0    0    0    0    0    0   \n",
       "           5955787         4788        81    0    0    0    0    0    0    0   \n",
       "           5955789         4337        75    0    0    0    0    0    0    0   \n",
       "\n",
       "                    m_9  ...  h_20  h_21  h_22  h_23  d_1  d_2  d_3  d_4  d_5  \\\n",
       "date       tripid        ...                                                    \n",
       "2018-01-01 5955785    0  ...     0     0     0     0    0    0    0    0    0   \n",
       "           5955787    0  ...     0     0     0     0    0    0    0    0    0   \n",
       "           5955789    0  ...     0     0     0     0    0    0    0    0    0   \n",
       "\n",
       "                    d_6  \n",
       "date       tripid        \n",
       "2018-01-01 5955785    0  \n",
       "           5955787    0  \n",
       "           5955789    0  \n",
       "\n",
       "[3 rows x 36 columns]"
      ]
     },
     "execution_count": 27,
     "metadata": {},
     "output_type": "execute_result"
    }
   ],
   "source": [
    "dfLinear.head(3)"
   ]
  },
  {
   "cell_type": "code",
   "execution_count": 28,
   "id": "5da5cd91",
   "metadata": {},
   "outputs": [],
   "source": [
    "for i in dfLinear:\n",
    "    dfLinear[i] = dfLinear[i].astype('int')"
   ]
  },
  {
   "cell_type": "code",
   "execution_count": 29,
   "id": "dc14e272",
   "metadata": {},
   "outputs": [],
   "source": [
    "Xfeatures = dfLinear.columns[dfLinear.columns != 'journeytime']\n",
    "Xfeatures = Xfeatures.drop(['humidity'])\n",
    "X = dfLinear[Xfeatures] #separate target feature from predicitve features for train test split\n",
    "y = dfLinear.journeytime\n",
    "\n",
    "Xtrain, Xtest, ytrain, ytest = train_test_split(X, y, test_size=0.3, random_state=1)"
   ]
  },
  {
   "cell_type": "code",
   "execution_count": 30,
   "id": "7c010de3",
   "metadata": {
    "scrolled": true
   },
   "outputs": [
    {
     "data": {
      "text/html": [
       "<style>#sk-container-id-1 {color: black;background-color: white;}#sk-container-id-1 pre{padding: 0;}#sk-container-id-1 div.sk-toggleable {background-color: white;}#sk-container-id-1 label.sk-toggleable__label {cursor: pointer;display: block;width: 100%;margin-bottom: 0;padding: 0.3em;box-sizing: border-box;text-align: center;}#sk-container-id-1 label.sk-toggleable__label-arrow:before {content: \"▸\";float: left;margin-right: 0.25em;color: #696969;}#sk-container-id-1 label.sk-toggleable__label-arrow:hover:before {color: black;}#sk-container-id-1 div.sk-estimator:hover label.sk-toggleable__label-arrow:before {color: black;}#sk-container-id-1 div.sk-toggleable__content {max-height: 0;max-width: 0;overflow: hidden;text-align: left;background-color: #f0f8ff;}#sk-container-id-1 div.sk-toggleable__content pre {margin: 0.2em;color: black;border-radius: 0.25em;background-color: #f0f8ff;}#sk-container-id-1 input.sk-toggleable__control:checked~div.sk-toggleable__content {max-height: 200px;max-width: 100%;overflow: auto;}#sk-container-id-1 input.sk-toggleable__control:checked~label.sk-toggleable__label-arrow:before {content: \"▾\";}#sk-container-id-1 div.sk-estimator input.sk-toggleable__control:checked~label.sk-toggleable__label {background-color: #d4ebff;}#sk-container-id-1 div.sk-label input.sk-toggleable__control:checked~label.sk-toggleable__label {background-color: #d4ebff;}#sk-container-id-1 input.sk-hidden--visually {border: 0;clip: rect(1px 1px 1px 1px);clip: rect(1px, 1px, 1px, 1px);height: 1px;margin: -1px;overflow: hidden;padding: 0;position: absolute;width: 1px;}#sk-container-id-1 div.sk-estimator {font-family: monospace;background-color: #f0f8ff;border: 1px dotted black;border-radius: 0.25em;box-sizing: border-box;margin-bottom: 0.5em;}#sk-container-id-1 div.sk-estimator:hover {background-color: #d4ebff;}#sk-container-id-1 div.sk-parallel-item::after {content: \"\";width: 100%;border-bottom: 1px solid gray;flex-grow: 1;}#sk-container-id-1 div.sk-label:hover label.sk-toggleable__label {background-color: #d4ebff;}#sk-container-id-1 div.sk-serial::before {content: \"\";position: absolute;border-left: 1px solid gray;box-sizing: border-box;top: 0;bottom: 0;left: 50%;z-index: 0;}#sk-container-id-1 div.sk-serial {display: flex;flex-direction: column;align-items: center;background-color: white;padding-right: 0.2em;padding-left: 0.2em;position: relative;}#sk-container-id-1 div.sk-item {position: relative;z-index: 1;}#sk-container-id-1 div.sk-parallel {display: flex;align-items: stretch;justify-content: center;background-color: white;position: relative;}#sk-container-id-1 div.sk-item::before, #sk-container-id-1 div.sk-parallel-item::before {content: \"\";position: absolute;border-left: 1px solid gray;box-sizing: border-box;top: 0;bottom: 0;left: 50%;z-index: -1;}#sk-container-id-1 div.sk-parallel-item {display: flex;flex-direction: column;z-index: 1;position: relative;background-color: white;}#sk-container-id-1 div.sk-parallel-item:first-child::after {align-self: flex-end;width: 50%;}#sk-container-id-1 div.sk-parallel-item:last-child::after {align-self: flex-start;width: 50%;}#sk-container-id-1 div.sk-parallel-item:only-child::after {width: 0;}#sk-container-id-1 div.sk-dashed-wrapped {border: 1px dashed gray;margin: 0 0.4em 0.5em 0.4em;box-sizing: border-box;padding-bottom: 0.4em;background-color: white;}#sk-container-id-1 div.sk-label label {font-family: monospace;font-weight: bold;display: inline-block;line-height: 1.2em;}#sk-container-id-1 div.sk-label-container {text-align: center;}#sk-container-id-1 div.sk-container {/* jupyter's `normalize.less` sets `[hidden] { display: none; }` but bootstrap.min.css set `[hidden] { display: none !important; }` so we also need the `!important` here to be able to override the default hidden behavior on the sphinx rendered scikit-learn.org. See: https://github.com/scikit-learn/scikit-learn/issues/21755 */display: inline-block !important;position: relative;}#sk-container-id-1 div.sk-text-repr-fallback {display: none;}</style><div id=\"sk-container-id-1\" class=\"sk-top-container\"><div class=\"sk-text-repr-fallback\"><pre>RandomForestRegressor(oob_score=True, random_state=1)</pre><b>In a Jupyter environment, please rerun this cell to show the HTML representation or trust the notebook. <br />On GitHub, the HTML representation is unable to render, please try loading this page with nbviewer.org.</b></div><div class=\"sk-container\" hidden><div class=\"sk-item\"><div class=\"sk-estimator sk-toggleable\"><input class=\"sk-toggleable__control sk-hidden--visually\" id=\"sk-estimator-id-1\" type=\"checkbox\" checked><label for=\"sk-estimator-id-1\" class=\"sk-toggleable__label sk-toggleable__label-arrow\">RandomForestRegressor</label><div class=\"sk-toggleable__content\"><pre>RandomForestRegressor(oob_score=True, random_state=1)</pre></div></div></div></div></div>"
      ],
      "text/plain": [
       "RandomForestRegressor(oob_score=True, random_state=1)"
      ]
     },
     "execution_count": 30,
     "metadata": {},
     "output_type": "execute_result"
    }
   ],
   "source": [
    "lmodel = LinearRegression().fit(Xtrain, ytrain)\n",
    "rfc = RandomForestRegressor(oob_score=True, random_state=1)\n",
    "rfc.fit(Xtrain, ytrain)"
   ]
  },
  {
   "cell_type": "code",
   "execution_count": 31,
   "id": "9f92f0f9",
   "metadata": {
    "scrolled": true
   },
   "outputs": [
    {
     "data": {
      "text/html": [
       "<div>\n",
       "<style scoped>\n",
       "    .dataframe tbody tr th:only-of-type {\n",
       "        vertical-align: middle;\n",
       "    }\n",
       "\n",
       "    .dataframe tbody tr th {\n",
       "        vertical-align: top;\n",
       "    }\n",
       "\n",
       "    .dataframe thead th {\n",
       "        text-align: right;\n",
       "    }\n",
       "</style>\n",
       "<table border=\"1\" class=\"dataframe\">\n",
       "  <thead>\n",
       "    <tr style=\"text-align: right;\">\n",
       "      <th></th>\n",
       "      <th>feature</th>\n",
       "      <th>importance</th>\n",
       "    </tr>\n",
       "  </thead>\n",
       "  <tbody>\n",
       "    <tr>\n",
       "      <th>9</th>\n",
       "      <td>h_1</td>\n",
       "      <td>1909.731864</td>\n",
       "    </tr>\n",
       "    <tr>\n",
       "      <th>21</th>\n",
       "      <td>h_17</td>\n",
       "      <td>1817.297486</td>\n",
       "    </tr>\n",
       "    <tr>\n",
       "      <th>19</th>\n",
       "      <td>h_15</td>\n",
       "      <td>1681.827156</td>\n",
       "    </tr>\n",
       "    <tr>\n",
       "      <th>22</th>\n",
       "      <td>h_18</td>\n",
       "      <td>1597.034315</td>\n",
       "    </tr>\n",
       "    <tr>\n",
       "      <th>18</th>\n",
       "      <td>h_14</td>\n",
       "      <td>1426.463761</td>\n",
       "    </tr>\n",
       "    <tr>\n",
       "      <th>20</th>\n",
       "      <td>h_16</td>\n",
       "      <td>1387.382560</td>\n",
       "    </tr>\n",
       "    <tr>\n",
       "      <th>23</th>\n",
       "      <td>h_19</td>\n",
       "      <td>1288.736682</td>\n",
       "    </tr>\n",
       "    <tr>\n",
       "      <th>13</th>\n",
       "      <td>h_9</td>\n",
       "      <td>1203.873616</td>\n",
       "    </tr>\n",
       "    <tr>\n",
       "      <th>17</th>\n",
       "      <td>h_13</td>\n",
       "      <td>1171.872617</td>\n",
       "    </tr>\n",
       "    <tr>\n",
       "      <th>12</th>\n",
       "      <td>h_8</td>\n",
       "      <td>1159.300783</td>\n",
       "    </tr>\n",
       "    <tr>\n",
       "      <th>16</th>\n",
       "      <td>h_12</td>\n",
       "      <td>1053.946625</td>\n",
       "    </tr>\n",
       "    <tr>\n",
       "      <th>24</th>\n",
       "      <td>h_20</td>\n",
       "      <td>898.867117</td>\n",
       "    </tr>\n",
       "    <tr>\n",
       "      <th>27</th>\n",
       "      <td>h_23</td>\n",
       "      <td>885.691125</td>\n",
       "    </tr>\n",
       "    <tr>\n",
       "      <th>15</th>\n",
       "      <td>h_11</td>\n",
       "      <td>877.582666</td>\n",
       "    </tr>\n",
       "    <tr>\n",
       "      <th>25</th>\n",
       "      <td>h_21</td>\n",
       "      <td>862.103282</td>\n",
       "    </tr>\n",
       "    <tr>\n",
       "      <th>14</th>\n",
       "      <td>h_10</td>\n",
       "      <td>743.219245</td>\n",
       "    </tr>\n",
       "    <tr>\n",
       "      <th>26</th>\n",
       "      <td>h_22</td>\n",
       "      <td>692.162800</td>\n",
       "    </tr>\n",
       "    <tr>\n",
       "      <th>11</th>\n",
       "      <td>h_7</td>\n",
       "      <td>454.202141</td>\n",
       "    </tr>\n",
       "    <tr>\n",
       "      <th>31</th>\n",
       "      <td>d_4</td>\n",
       "      <td>285.270632</td>\n",
       "    </tr>\n",
       "    <tr>\n",
       "      <th>8</th>\n",
       "      <td>m_10</td>\n",
       "      <td>268.268683</td>\n",
       "    </tr>\n",
       "    <tr>\n",
       "      <th>3</th>\n",
       "      <td>m_5</td>\n",
       "      <td>249.508840</td>\n",
       "    </tr>\n",
       "    <tr>\n",
       "      <th>7</th>\n",
       "      <td>m_9</td>\n",
       "      <td>243.690625</td>\n",
       "    </tr>\n",
       "    <tr>\n",
       "      <th>2</th>\n",
       "      <td>m_4</td>\n",
       "      <td>184.988746</td>\n",
       "    </tr>\n",
       "    <tr>\n",
       "      <th>30</th>\n",
       "      <td>d_3</td>\n",
       "      <td>170.671896</td>\n",
       "    </tr>\n",
       "    <tr>\n",
       "      <th>5</th>\n",
       "      <td>m_7</td>\n",
       "      <td>142.685128</td>\n",
       "    </tr>\n",
       "    <tr>\n",
       "      <th>29</th>\n",
       "      <td>d_2</td>\n",
       "      <td>133.167945</td>\n",
       "    </tr>\n",
       "    <tr>\n",
       "      <th>4</th>\n",
       "      <td>m_6</td>\n",
       "      <td>122.973875</td>\n",
       "    </tr>\n",
       "    <tr>\n",
       "      <th>1</th>\n",
       "      <td>m_3</td>\n",
       "      <td>88.768047</td>\n",
       "    </tr>\n",
       "    <tr>\n",
       "      <th>28</th>\n",
       "      <td>d_1</td>\n",
       "      <td>81.486334</td>\n",
       "    </tr>\n",
       "    <tr>\n",
       "      <th>6</th>\n",
       "      <td>m_8</td>\n",
       "      <td>79.611313</td>\n",
       "    </tr>\n",
       "    <tr>\n",
       "      <th>0</th>\n",
       "      <td>m_2</td>\n",
       "      <td>31.723837</td>\n",
       "    </tr>\n",
       "    <tr>\n",
       "      <th>32</th>\n",
       "      <td>d_5</td>\n",
       "      <td>-59.210277</td>\n",
       "    </tr>\n",
       "    <tr>\n",
       "      <th>33</th>\n",
       "      <td>d_6</td>\n",
       "      <td>-266.359071</td>\n",
       "    </tr>\n",
       "    <tr>\n",
       "      <th>10</th>\n",
       "      <td>h_5</td>\n",
       "      <td>-2649.758350</td>\n",
       "    </tr>\n",
       "  </tbody>\n",
       "</table>\n",
       "</div>"
      ],
      "text/plain": [
       "   feature   importance\n",
       "9      h_1  1909.731864\n",
       "21    h_17  1817.297486\n",
       "19    h_15  1681.827156\n",
       "22    h_18  1597.034315\n",
       "18    h_14  1426.463761\n",
       "20    h_16  1387.382560\n",
       "23    h_19  1288.736682\n",
       "13     h_9  1203.873616\n",
       "17    h_13  1171.872617\n",
       "12     h_8  1159.300783\n",
       "16    h_12  1053.946625\n",
       "24    h_20   898.867117\n",
       "27    h_23   885.691125\n",
       "15    h_11   877.582666\n",
       "25    h_21   862.103282\n",
       "14    h_10   743.219245\n",
       "26    h_22   692.162800\n",
       "11     h_7   454.202141\n",
       "31     d_4   285.270632\n",
       "8     m_10   268.268683\n",
       "3      m_5   249.508840\n",
       "7      m_9   243.690625\n",
       "2      m_4   184.988746\n",
       "30     d_3   170.671896\n",
       "5      m_7   142.685128\n",
       "29     d_2   133.167945\n",
       "4      m_6   122.973875\n",
       "1      m_3    88.768047\n",
       "28     d_1    81.486334\n",
       "6      m_8    79.611313\n",
       "0      m_2    31.723837\n",
       "32     d_5   -59.210277\n",
       "33     d_6  -266.359071\n",
       "10     h_5 -2649.758350"
      ]
     },
     "execution_count": 31,
     "metadata": {},
     "output_type": "execute_result"
    }
   ],
   "source": [
    "featureImportance = pd.DataFrame({'feature': Xfeatures, 'importance':lmodel.coef_})\n",
    "featureImportance.sort_values('importance', ascending=False)"
   ]
  },
  {
   "cell_type": "code",
   "execution_count": 32,
   "id": "bdd4f073",
   "metadata": {},
   "outputs": [],
   "source": [
    "trainPredictions = lmodel.predict(Xtrain)\n",
    "rfcPrediction = rfc.predict(Xtrain)"
   ]
  },
  {
   "cell_type": "code",
   "execution_count": 33,
   "id": "cb68afc1",
   "metadata": {},
   "outputs": [
    {
     "data": {
      "text/html": [
       "<div>\n",
       "<style scoped>\n",
       "    .dataframe tbody tr th:only-of-type {\n",
       "        vertical-align: middle;\n",
       "    }\n",
       "\n",
       "    .dataframe tbody tr th {\n",
       "        vertical-align: top;\n",
       "    }\n",
       "\n",
       "    .dataframe thead th {\n",
       "        text-align: right;\n",
       "    }\n",
       "</style>\n",
       "<table border=\"1\" class=\"dataframe\">\n",
       "  <thead>\n",
       "    <tr style=\"text-align: right;\">\n",
       "      <th></th>\n",
       "      <th></th>\n",
       "      <th>journeytime</th>\n",
       "      <th>Linear</th>\n",
       "    </tr>\n",
       "    <tr>\n",
       "      <th>date</th>\n",
       "      <th>tripid</th>\n",
       "      <th></th>\n",
       "      <th></th>\n",
       "    </tr>\n",
       "  </thead>\n",
       "  <tbody>\n",
       "    <tr>\n",
       "      <th>2018-07-01</th>\n",
       "      <th>7142159</th>\n",
       "      <td>4702</td>\n",
       "      <td>4267.978524</td>\n",
       "    </tr>\n",
       "    <tr>\n",
       "      <th>2018-07-12</th>\n",
       "      <th>7162050</th>\n",
       "      <td>5187</td>\n",
       "      <td>5301.583373</td>\n",
       "    </tr>\n",
       "    <tr>\n",
       "      <th>2018-05-14</th>\n",
       "      <th>6763794</th>\n",
       "      <td>4474</td>\n",
       "      <td>4403.200648</td>\n",
       "    </tr>\n",
       "    <tr>\n",
       "      <th>2018-03-26</th>\n",
       "      <th>6420221</th>\n",
       "      <td>4905</td>\n",
       "      <td>4947.558497</td>\n",
       "    </tr>\n",
       "    <tr>\n",
       "      <th>2018-04-05</th>\n",
       "      <th>6597242</th>\n",
       "      <td>4873</td>\n",
       "      <td>5214.451093</td>\n",
       "    </tr>\n",
       "  </tbody>\n",
       "</table>\n",
       "</div>"
      ],
      "text/plain": [
       "                    journeytime       Linear\n",
       "date       tripid                           \n",
       "2018-07-01 7142159         4702  4267.978524\n",
       "2018-07-12 7162050         5187  5301.583373\n",
       "2018-05-14 6763794         4474  4403.200648\n",
       "2018-03-26 6420221         4905  4947.558497\n",
       "2018-04-05 6597242         4873  5214.451093"
      ]
     },
     "execution_count": 33,
     "metadata": {},
     "output_type": "execute_result"
    }
   ],
   "source": [
    "trueVsPredicted = pd.concat([ytrain, pd.DataFrame(trainPredictions, columns=['Linear'], index=Xtrain.index)], axis=1)\n",
    "trueVsPredicted.head(5)"
   ]
  },
  {
   "cell_type": "code",
   "execution_count": 34,
   "id": "daffeefd",
   "metadata": {},
   "outputs": [
    {
     "name": "stdout",
     "output_type": "stream",
     "text": [
      "Linear Regression:\n",
      "MAE:  408.5545679601503\n",
      "RMSE:  612.1275710763096\n",
      "R2:  0.4018232772063399\n",
      "\n",
      "Random Forest:\n",
      "MAE:  321.306675995821\n",
      "RMSE:  483.368672568316\n",
      "R2:  0.6270053291406257\n"
     ]
    }
   ],
   "source": [
    "print('Linear Regression:')\n",
    "printMetrics(ytrain, trainPredictions)\n",
    "print('\\nRandom Forest:')\n",
    "printMetrics(ytrain, rfcPrediction)"
   ]
  },
  {
   "cell_type": "markdown",
   "id": "ec133ee8",
   "metadata": {},
   "source": [
    "# Models for time taken to reach each stop"
   ]
  },
  {
   "cell_type": "code",
   "execution_count": 35,
   "id": "282e2589",
   "metadata": {},
   "outputs": [],
   "source": [
    "dfAllStops = df.drop(columns = ['stopActualArr','rain','temp','pressure','dwelltime'])"
   ]
  },
  {
   "cell_type": "code",
   "execution_count": 36,
   "id": "f7d33062",
   "metadata": {},
   "outputs": [
    {
     "data": {
      "text/html": [
       "<div>\n",
       "<style scoped>\n",
       "    .dataframe tbody tr th:only-of-type {\n",
       "        vertical-align: middle;\n",
       "    }\n",
       "\n",
       "    .dataframe tbody tr th {\n",
       "        vertical-align: top;\n",
       "    }\n",
       "\n",
       "    .dataframe thead th {\n",
       "        text-align: right;\n",
       "    }\n",
       "</style>\n",
       "<table border=\"1\" class=\"dataframe\">\n",
       "  <thead>\n",
       "    <tr style=\"text-align: right;\">\n",
       "      <th></th>\n",
       "      <th>date</th>\n",
       "      <th>tripid</th>\n",
       "      <th>progrnumber</th>\n",
       "      <th>journeytime</th>\n",
       "      <th>humidity</th>\n",
       "      <th>weekday</th>\n",
       "      <th>month</th>\n",
       "      <th>hour</th>\n",
       "    </tr>\n",
       "  </thead>\n",
       "  <tbody>\n",
       "    <tr>\n",
       "      <th>0</th>\n",
       "      <td>2018-01-01</td>\n",
       "      <td>5955785</td>\n",
       "      <td>1</td>\n",
       "      <td>0</td>\n",
       "      <td>79</td>\n",
       "      <td>0</td>\n",
       "      <td>1</td>\n",
       "      <td>10</td>\n",
       "    </tr>\n",
       "    <tr>\n",
       "      <th>1</th>\n",
       "      <td>2018-01-01</td>\n",
       "      <td>5955785</td>\n",
       "      <td>2</td>\n",
       "      <td>34</td>\n",
       "      <td>79</td>\n",
       "      <td>0</td>\n",
       "      <td>1</td>\n",
       "      <td>10</td>\n",
       "    </tr>\n",
       "    <tr>\n",
       "      <th>2</th>\n",
       "      <td>2018-01-01</td>\n",
       "      <td>5955785</td>\n",
       "      <td>3</td>\n",
       "      <td>138</td>\n",
       "      <td>79</td>\n",
       "      <td>0</td>\n",
       "      <td>1</td>\n",
       "      <td>10</td>\n",
       "    </tr>\n",
       "  </tbody>\n",
       "</table>\n",
       "</div>"
      ],
      "text/plain": [
       "        date   tripid  progrnumber  journeytime  humidity  weekday  month  \\\n",
       "0 2018-01-01  5955785            1            0        79        0      1   \n",
       "1 2018-01-01  5955785            2           34        79        0      1   \n",
       "2 2018-01-01  5955785            3          138        79        0      1   \n",
       "\n",
       "   hour  \n",
       "0    10  \n",
       "1    10  \n",
       "2    10  "
      ]
     },
     "execution_count": 36,
     "metadata": {},
     "output_type": "execute_result"
    }
   ],
   "source": [
    "dfAllStops.hour %= 24\n",
    "dfAllStops.head(3)"
   ]
  },
  {
   "cell_type": "code",
   "execution_count": 37,
   "id": "d37b9b40",
   "metadata": {},
   "outputs": [],
   "source": [
    "dfAllStops.month = dfAllStops.month.astype('category')\n",
    "dfAllStops.hour = dfAllStops.hour.astype('category')\n",
    "dfAllStops.weekday = dfAllStops.weekday.astype('category')"
   ]
  },
  {
   "cell_type": "code",
   "execution_count": 38,
   "id": "9019f4c3",
   "metadata": {},
   "outputs": [],
   "source": [
    "monthDummies = pd.get_dummies(dfAllStops.month, prefix='m', drop_first=True)\n",
    "hourDummies = pd.get_dummies(dfAllStops.hour,prefix='h', drop_first=True)\n",
    "dayDummies = pd.get_dummies(dfAllStops.weekday, prefix='d', drop_first=True)"
   ]
  },
  {
   "cell_type": "code",
   "execution_count": 39,
   "id": "30070d13",
   "metadata": {},
   "outputs": [
    {
     "data": {
      "text/html": [
       "<div>\n",
       "<style scoped>\n",
       "    .dataframe tbody tr th:only-of-type {\n",
       "        vertical-align: middle;\n",
       "    }\n",
       "\n",
       "    .dataframe tbody tr th {\n",
       "        vertical-align: top;\n",
       "    }\n",
       "\n",
       "    .dataframe thead th {\n",
       "        text-align: right;\n",
       "    }\n",
       "</style>\n",
       "<table border=\"1\" class=\"dataframe\">\n",
       "  <thead>\n",
       "    <tr style=\"text-align: right;\">\n",
       "      <th></th>\n",
       "      <th>date</th>\n",
       "      <th>tripid</th>\n",
       "      <th>progrnumber</th>\n",
       "      <th>journeytime</th>\n",
       "      <th>humidity</th>\n",
       "      <th>m_2</th>\n",
       "      <th>m_3</th>\n",
       "      <th>m_4</th>\n",
       "      <th>m_5</th>\n",
       "      <th>m_6</th>\n",
       "      <th>...</th>\n",
       "      <th>h_20</th>\n",
       "      <th>h_21</th>\n",
       "      <th>h_22</th>\n",
       "      <th>h_23</th>\n",
       "      <th>d_1</th>\n",
       "      <th>d_2</th>\n",
       "      <th>d_3</th>\n",
       "      <th>d_4</th>\n",
       "      <th>d_5</th>\n",
       "      <th>d_6</th>\n",
       "    </tr>\n",
       "  </thead>\n",
       "  <tbody>\n",
       "    <tr>\n",
       "      <th>0</th>\n",
       "      <td>2018-01-01</td>\n",
       "      <td>5955785</td>\n",
       "      <td>1</td>\n",
       "      <td>0</td>\n",
       "      <td>79</td>\n",
       "      <td>0</td>\n",
       "      <td>0</td>\n",
       "      <td>0</td>\n",
       "      <td>0</td>\n",
       "      <td>0</td>\n",
       "      <td>...</td>\n",
       "      <td>0</td>\n",
       "      <td>0</td>\n",
       "      <td>0</td>\n",
       "      <td>0</td>\n",
       "      <td>0</td>\n",
       "      <td>0</td>\n",
       "      <td>0</td>\n",
       "      <td>0</td>\n",
       "      <td>0</td>\n",
       "      <td>0</td>\n",
       "    </tr>\n",
       "    <tr>\n",
       "      <th>1</th>\n",
       "      <td>2018-01-01</td>\n",
       "      <td>5955785</td>\n",
       "      <td>2</td>\n",
       "      <td>34</td>\n",
       "      <td>79</td>\n",
       "      <td>0</td>\n",
       "      <td>0</td>\n",
       "      <td>0</td>\n",
       "      <td>0</td>\n",
       "      <td>0</td>\n",
       "      <td>...</td>\n",
       "      <td>0</td>\n",
       "      <td>0</td>\n",
       "      <td>0</td>\n",
       "      <td>0</td>\n",
       "      <td>0</td>\n",
       "      <td>0</td>\n",
       "      <td>0</td>\n",
       "      <td>0</td>\n",
       "      <td>0</td>\n",
       "      <td>0</td>\n",
       "    </tr>\n",
       "    <tr>\n",
       "      <th>2</th>\n",
       "      <td>2018-01-01</td>\n",
       "      <td>5955785</td>\n",
       "      <td>3</td>\n",
       "      <td>138</td>\n",
       "      <td>79</td>\n",
       "      <td>0</td>\n",
       "      <td>0</td>\n",
       "      <td>0</td>\n",
       "      <td>0</td>\n",
       "      <td>0</td>\n",
       "      <td>...</td>\n",
       "      <td>0</td>\n",
       "      <td>0</td>\n",
       "      <td>0</td>\n",
       "      <td>0</td>\n",
       "      <td>0</td>\n",
       "      <td>0</td>\n",
       "      <td>0</td>\n",
       "      <td>0</td>\n",
       "      <td>0</td>\n",
       "      <td>0</td>\n",
       "    </tr>\n",
       "  </tbody>\n",
       "</table>\n",
       "<p>3 rows × 41 columns</p>\n",
       "</div>"
      ],
      "text/plain": [
       "        date   tripid  progrnumber  journeytime  humidity  m_2  m_3  m_4  m_5  \\\n",
       "0 2018-01-01  5955785            1            0        79    0    0    0    0   \n",
       "1 2018-01-01  5955785            2           34        79    0    0    0    0   \n",
       "2 2018-01-01  5955785            3          138        79    0    0    0    0   \n",
       "\n",
       "   m_6  ...  h_20  h_21  h_22  h_23  d_1  d_2  d_3  d_4  d_5  d_6  \n",
       "0    0  ...     0     0     0     0    0    0    0    0    0    0  \n",
       "1    0  ...     0     0     0     0    0    0    0    0    0    0  \n",
       "2    0  ...     0     0     0     0    0    0    0    0    0    0  \n",
       "\n",
       "[3 rows x 41 columns]"
      ]
     },
     "execution_count": 39,
     "metadata": {},
     "output_type": "execute_result"
    }
   ],
   "source": [
    "dfAllStops = pd.concat([dfAllStops,monthDummies,hourDummies,dayDummies], axis=1)\n",
    "dfAllStops.drop(columns=['month','hour','weekday'], inplace=True)\n",
    "dfAllStops.head(3)"
   ]
  },
  {
   "cell_type": "code",
   "execution_count": 40,
   "id": "e31aed47",
   "metadata": {},
   "outputs": [],
   "source": [
    "for i in dfAllStops:\n",
    "    dfAllStops[i] = dfAllStops[i].astype('int')"
   ]
  },
  {
   "cell_type": "code",
   "execution_count": 41,
   "id": "738e7694",
   "metadata": {},
   "outputs": [],
   "source": [
    "Xfeatures = dfAllStops.columns[dfAllStops.columns != 'journeytime']\n",
    "Xfeatures = Xfeatures.drop(['date','tripid','humidity']) #removed humidity due to low effect\n",
    "X = dfAllStops[Xfeatures] #separate target feature from predicitve features for train test split\n",
    "y = dfAllStops.journeytime\n",
    "\n",
    "Xtrain, Xtest, ytrain, ytest = train_test_split(X, y, test_size=0.7, random_state=1)"
   ]
  },
  {
   "cell_type": "code",
   "execution_count": 42,
   "id": "dc3790d4",
   "metadata": {},
   "outputs": [],
   "source": [
    "l2model = LinearRegression().fit(Xtrain, ytrain)\n",
    "rfc = RandomForestRegressor(n_estimators=100, oob_score=True, random_state=1)"
   ]
  },
  {
   "cell_type": "code",
   "execution_count": 43,
   "id": "6cce0390",
   "metadata": {},
   "outputs": [
    {
     "data": {
      "text/html": [
       "<style>#sk-container-id-2 {color: black;background-color: white;}#sk-container-id-2 pre{padding: 0;}#sk-container-id-2 div.sk-toggleable {background-color: white;}#sk-container-id-2 label.sk-toggleable__label {cursor: pointer;display: block;width: 100%;margin-bottom: 0;padding: 0.3em;box-sizing: border-box;text-align: center;}#sk-container-id-2 label.sk-toggleable__label-arrow:before {content: \"▸\";float: left;margin-right: 0.25em;color: #696969;}#sk-container-id-2 label.sk-toggleable__label-arrow:hover:before {color: black;}#sk-container-id-2 div.sk-estimator:hover label.sk-toggleable__label-arrow:before {color: black;}#sk-container-id-2 div.sk-toggleable__content {max-height: 0;max-width: 0;overflow: hidden;text-align: left;background-color: #f0f8ff;}#sk-container-id-2 div.sk-toggleable__content pre {margin: 0.2em;color: black;border-radius: 0.25em;background-color: #f0f8ff;}#sk-container-id-2 input.sk-toggleable__control:checked~div.sk-toggleable__content {max-height: 200px;max-width: 100%;overflow: auto;}#sk-container-id-2 input.sk-toggleable__control:checked~label.sk-toggleable__label-arrow:before {content: \"▾\";}#sk-container-id-2 div.sk-estimator input.sk-toggleable__control:checked~label.sk-toggleable__label {background-color: #d4ebff;}#sk-container-id-2 div.sk-label input.sk-toggleable__control:checked~label.sk-toggleable__label {background-color: #d4ebff;}#sk-container-id-2 input.sk-hidden--visually {border: 0;clip: rect(1px 1px 1px 1px);clip: rect(1px, 1px, 1px, 1px);height: 1px;margin: -1px;overflow: hidden;padding: 0;position: absolute;width: 1px;}#sk-container-id-2 div.sk-estimator {font-family: monospace;background-color: #f0f8ff;border: 1px dotted black;border-radius: 0.25em;box-sizing: border-box;margin-bottom: 0.5em;}#sk-container-id-2 div.sk-estimator:hover {background-color: #d4ebff;}#sk-container-id-2 div.sk-parallel-item::after {content: \"\";width: 100%;border-bottom: 1px solid gray;flex-grow: 1;}#sk-container-id-2 div.sk-label:hover label.sk-toggleable__label {background-color: #d4ebff;}#sk-container-id-2 div.sk-serial::before {content: \"\";position: absolute;border-left: 1px solid gray;box-sizing: border-box;top: 0;bottom: 0;left: 50%;z-index: 0;}#sk-container-id-2 div.sk-serial {display: flex;flex-direction: column;align-items: center;background-color: white;padding-right: 0.2em;padding-left: 0.2em;position: relative;}#sk-container-id-2 div.sk-item {position: relative;z-index: 1;}#sk-container-id-2 div.sk-parallel {display: flex;align-items: stretch;justify-content: center;background-color: white;position: relative;}#sk-container-id-2 div.sk-item::before, #sk-container-id-2 div.sk-parallel-item::before {content: \"\";position: absolute;border-left: 1px solid gray;box-sizing: border-box;top: 0;bottom: 0;left: 50%;z-index: -1;}#sk-container-id-2 div.sk-parallel-item {display: flex;flex-direction: column;z-index: 1;position: relative;background-color: white;}#sk-container-id-2 div.sk-parallel-item:first-child::after {align-self: flex-end;width: 50%;}#sk-container-id-2 div.sk-parallel-item:last-child::after {align-self: flex-start;width: 50%;}#sk-container-id-2 div.sk-parallel-item:only-child::after {width: 0;}#sk-container-id-2 div.sk-dashed-wrapped {border: 1px dashed gray;margin: 0 0.4em 0.5em 0.4em;box-sizing: border-box;padding-bottom: 0.4em;background-color: white;}#sk-container-id-2 div.sk-label label {font-family: monospace;font-weight: bold;display: inline-block;line-height: 1.2em;}#sk-container-id-2 div.sk-label-container {text-align: center;}#sk-container-id-2 div.sk-container {/* jupyter's `normalize.less` sets `[hidden] { display: none; }` but bootstrap.min.css set `[hidden] { display: none !important; }` so we also need the `!important` here to be able to override the default hidden behavior on the sphinx rendered scikit-learn.org. See: https://github.com/scikit-learn/scikit-learn/issues/21755 */display: inline-block !important;position: relative;}#sk-container-id-2 div.sk-text-repr-fallback {display: none;}</style><div id=\"sk-container-id-2\" class=\"sk-top-container\"><div class=\"sk-text-repr-fallback\"><pre>RandomForestRegressor(oob_score=True, random_state=1)</pre><b>In a Jupyter environment, please rerun this cell to show the HTML representation or trust the notebook. <br />On GitHub, the HTML representation is unable to render, please try loading this page with nbviewer.org.</b></div><div class=\"sk-container\" hidden><div class=\"sk-item\"><div class=\"sk-estimator sk-toggleable\"><input class=\"sk-toggleable__control sk-hidden--visually\" id=\"sk-estimator-id-2\" type=\"checkbox\" checked><label for=\"sk-estimator-id-2\" class=\"sk-toggleable__label sk-toggleable__label-arrow\">RandomForestRegressor</label><div class=\"sk-toggleable__content\"><pre>RandomForestRegressor(oob_score=True, random_state=1)</pre></div></div></div></div></div>"
      ],
      "text/plain": [
       "RandomForestRegressor(oob_score=True, random_state=1)"
      ]
     },
     "execution_count": 43,
     "metadata": {},
     "output_type": "execute_result"
    }
   ],
   "source": [
    "rfc.fit(Xtrain,ytrain)"
   ]
  },
  {
   "cell_type": "code",
   "execution_count": 44,
   "id": "6f51450e",
   "metadata": {},
   "outputs": [],
   "source": [
    "trainPredictions = l2model.predict(Xtrain)\n",
    "rfcPrediction = rfc.predict(Xtrain)"
   ]
  },
  {
   "cell_type": "code",
   "execution_count": 45,
   "id": "495b1a14",
   "metadata": {
    "scrolled": true
   },
   "outputs": [
    {
     "data": {
      "text/html": [
       "<div>\n",
       "<style scoped>\n",
       "    .dataframe tbody tr th:only-of-type {\n",
       "        vertical-align: middle;\n",
       "    }\n",
       "\n",
       "    .dataframe tbody tr th {\n",
       "        vertical-align: top;\n",
       "    }\n",
       "\n",
       "    .dataframe thead th {\n",
       "        text-align: right;\n",
       "    }\n",
       "</style>\n",
       "<table border=\"1\" class=\"dataframe\">\n",
       "  <thead>\n",
       "    <tr style=\"text-align: right;\">\n",
       "      <th></th>\n",
       "      <th>feature</th>\n",
       "      <th>importance</th>\n",
       "    </tr>\n",
       "  </thead>\n",
       "  <tbody>\n",
       "    <tr>\n",
       "      <th>10</th>\n",
       "      <td>h_1</td>\n",
       "      <td>1.574360e+03</td>\n",
       "    </tr>\n",
       "    <tr>\n",
       "      <th>24</th>\n",
       "      <td>h_17</td>\n",
       "      <td>1.413980e+03</td>\n",
       "    </tr>\n",
       "    <tr>\n",
       "      <th>25</th>\n",
       "      <td>h_18</td>\n",
       "      <td>1.335890e+03</td>\n",
       "    </tr>\n",
       "    <tr>\n",
       "      <th>23</th>\n",
       "      <td>h_16</td>\n",
       "      <td>1.303554e+03</td>\n",
       "    </tr>\n",
       "    <tr>\n",
       "      <th>22</th>\n",
       "      <td>h_15</td>\n",
       "      <td>1.279443e+03</td>\n",
       "    </tr>\n",
       "    <tr>\n",
       "      <th>29</th>\n",
       "      <td>h_22</td>\n",
       "      <td>1.195708e+03</td>\n",
       "    </tr>\n",
       "    <tr>\n",
       "      <th>21</th>\n",
       "      <td>h_14</td>\n",
       "      <td>1.193700e+03</td>\n",
       "    </tr>\n",
       "    <tr>\n",
       "      <th>15</th>\n",
       "      <td>h_8</td>\n",
       "      <td>1.123987e+03</td>\n",
       "    </tr>\n",
       "    <tr>\n",
       "      <th>20</th>\n",
       "      <td>h_13</td>\n",
       "      <td>1.103198e+03</td>\n",
       "    </tr>\n",
       "    <tr>\n",
       "      <th>26</th>\n",
       "      <td>h_19</td>\n",
       "      <td>9.973171e+02</td>\n",
       "    </tr>\n",
       "    <tr>\n",
       "      <th>16</th>\n",
       "      <td>h_9</td>\n",
       "      <td>9.911713e+02</td>\n",
       "    </tr>\n",
       "    <tr>\n",
       "      <th>19</th>\n",
       "      <td>h_12</td>\n",
       "      <td>9.876577e+02</td>\n",
       "    </tr>\n",
       "    <tr>\n",
       "      <th>27</th>\n",
       "      <td>h_20</td>\n",
       "      <td>9.479920e+02</td>\n",
       "    </tr>\n",
       "    <tr>\n",
       "      <th>18</th>\n",
       "      <td>h_11</td>\n",
       "      <td>8.587675e+02</td>\n",
       "    </tr>\n",
       "    <tr>\n",
       "      <th>11</th>\n",
       "      <td>h_4</td>\n",
       "      <td>8.407577e+02</td>\n",
       "    </tr>\n",
       "    <tr>\n",
       "      <th>17</th>\n",
       "      <td>h_10</td>\n",
       "      <td>8.028145e+02</td>\n",
       "    </tr>\n",
       "    <tr>\n",
       "      <th>30</th>\n",
       "      <td>h_23</td>\n",
       "      <td>7.418108e+02</td>\n",
       "    </tr>\n",
       "    <tr>\n",
       "      <th>28</th>\n",
       "      <td>h_21</td>\n",
       "      <td>7.047170e+02</td>\n",
       "    </tr>\n",
       "    <tr>\n",
       "      <th>14</th>\n",
       "      <td>h_7</td>\n",
       "      <td>7.007342e+02</td>\n",
       "    </tr>\n",
       "    <tr>\n",
       "      <th>13</th>\n",
       "      <td>h_6</td>\n",
       "      <td>6.625823e+02</td>\n",
       "    </tr>\n",
       "    <tr>\n",
       "      <th>34</th>\n",
       "      <td>d_4</td>\n",
       "      <td>1.655073e+02</td>\n",
       "    </tr>\n",
       "    <tr>\n",
       "      <th>4</th>\n",
       "      <td>m_5</td>\n",
       "      <td>1.133480e+02</td>\n",
       "    </tr>\n",
       "    <tr>\n",
       "      <th>33</th>\n",
       "      <td>d_3</td>\n",
       "      <td>1.063895e+02</td>\n",
       "    </tr>\n",
       "    <tr>\n",
       "      <th>32</th>\n",
       "      <td>d_2</td>\n",
       "      <td>8.653442e+01</td>\n",
       "    </tr>\n",
       "    <tr>\n",
       "      <th>31</th>\n",
       "      <td>d_1</td>\n",
       "      <td>7.575509e+01</td>\n",
       "    </tr>\n",
       "    <tr>\n",
       "      <th>9</th>\n",
       "      <td>m_10</td>\n",
       "      <td>6.822549e+01</td>\n",
       "    </tr>\n",
       "    <tr>\n",
       "      <th>0</th>\n",
       "      <td>progrnumber</td>\n",
       "      <td>6.045559e+01</td>\n",
       "    </tr>\n",
       "    <tr>\n",
       "      <th>8</th>\n",
       "      <td>m_9</td>\n",
       "      <td>5.331046e+01</td>\n",
       "    </tr>\n",
       "    <tr>\n",
       "      <th>3</th>\n",
       "      <td>m_4</td>\n",
       "      <td>4.628377e+01</td>\n",
       "    </tr>\n",
       "    <tr>\n",
       "      <th>2</th>\n",
       "      <td>m_3</td>\n",
       "      <td>3.340001e+01</td>\n",
       "    </tr>\n",
       "    <tr>\n",
       "      <th>1</th>\n",
       "      <td>m_2</td>\n",
       "      <td>3.320223e+01</td>\n",
       "    </tr>\n",
       "    <tr>\n",
       "      <th>5</th>\n",
       "      <td>m_6</td>\n",
       "      <td>3.094198e+01</td>\n",
       "    </tr>\n",
       "    <tr>\n",
       "      <th>12</th>\n",
       "      <td>h_5</td>\n",
       "      <td>1.481482e-12</td>\n",
       "    </tr>\n",
       "    <tr>\n",
       "      <th>7</th>\n",
       "      <td>m_8</td>\n",
       "      <td>-7.223953e+00</td>\n",
       "    </tr>\n",
       "    <tr>\n",
       "      <th>6</th>\n",
       "      <td>m_7</td>\n",
       "      <td>-9.514371e+00</td>\n",
       "    </tr>\n",
       "    <tr>\n",
       "      <th>35</th>\n",
       "      <td>d_5</td>\n",
       "      <td>-1.833568e+01</td>\n",
       "    </tr>\n",
       "    <tr>\n",
       "      <th>36</th>\n",
       "      <td>d_6</td>\n",
       "      <td>-1.989511e+02</td>\n",
       "    </tr>\n",
       "  </tbody>\n",
       "</table>\n",
       "</div>"
      ],
      "text/plain": [
       "        feature    importance\n",
       "10          h_1  1.574360e+03\n",
       "24         h_17  1.413980e+03\n",
       "25         h_18  1.335890e+03\n",
       "23         h_16  1.303554e+03\n",
       "22         h_15  1.279443e+03\n",
       "29         h_22  1.195708e+03\n",
       "21         h_14  1.193700e+03\n",
       "15          h_8  1.123987e+03\n",
       "20         h_13  1.103198e+03\n",
       "26         h_19  9.973171e+02\n",
       "16          h_9  9.911713e+02\n",
       "19         h_12  9.876577e+02\n",
       "27         h_20  9.479920e+02\n",
       "18         h_11  8.587675e+02\n",
       "11          h_4  8.407577e+02\n",
       "17         h_10  8.028145e+02\n",
       "30         h_23  7.418108e+02\n",
       "28         h_21  7.047170e+02\n",
       "14          h_7  7.007342e+02\n",
       "13          h_6  6.625823e+02\n",
       "34          d_4  1.655073e+02\n",
       "4           m_5  1.133480e+02\n",
       "33          d_3  1.063895e+02\n",
       "32          d_2  8.653442e+01\n",
       "31          d_1  7.575509e+01\n",
       "9          m_10  6.822549e+01\n",
       "0   progrnumber  6.045559e+01\n",
       "8           m_9  5.331046e+01\n",
       "3           m_4  4.628377e+01\n",
       "2           m_3  3.340001e+01\n",
       "1           m_2  3.320223e+01\n",
       "5           m_6  3.094198e+01\n",
       "12          h_5  1.481482e-12\n",
       "7           m_8 -7.223953e+00\n",
       "6           m_7 -9.514371e+00\n",
       "35          d_5 -1.833568e+01\n",
       "36          d_6 -1.989511e+02"
      ]
     },
     "execution_count": 45,
     "metadata": {},
     "output_type": "execute_result"
    }
   ],
   "source": [
    "featureImportance = pd.DataFrame({'feature': Xfeatures, 'importance':l2model.coef_})\n",
    "featureImportance.sort_values('importance', ascending=False)"
   ]
  },
  {
   "cell_type": "code",
   "execution_count": 46,
   "id": "c2f8857a",
   "metadata": {},
   "outputs": [
    {
     "data": {
      "text/html": [
       "<div>\n",
       "<style scoped>\n",
       "    .dataframe tbody tr th:only-of-type {\n",
       "        vertical-align: middle;\n",
       "    }\n",
       "\n",
       "    .dataframe tbody tr th {\n",
       "        vertical-align: top;\n",
       "    }\n",
       "\n",
       "    .dataframe thead th {\n",
       "        text-align: right;\n",
       "    }\n",
       "</style>\n",
       "<table border=\"1\" class=\"dataframe\">\n",
       "  <thead>\n",
       "    <tr style=\"text-align: right;\">\n",
       "      <th></th>\n",
       "      <th>journeytime</th>\n",
       "      <th>Predicted</th>\n",
       "    </tr>\n",
       "  </thead>\n",
       "  <tbody>\n",
       "    <tr>\n",
       "      <th>215182</th>\n",
       "      <td>995</td>\n",
       "      <td>1223.436647</td>\n",
       "    </tr>\n",
       "    <tr>\n",
       "      <th>213460</th>\n",
       "      <td>4093</td>\n",
       "      <td>3962.687016</td>\n",
       "    </tr>\n",
       "    <tr>\n",
       "      <th>78033</th>\n",
       "      <td>895</td>\n",
       "      <td>1047.081507</td>\n",
       "    </tr>\n",
       "    <tr>\n",
       "      <th>298500</th>\n",
       "      <td>1951</td>\n",
       "      <td>2328.264980</td>\n",
       "    </tr>\n",
       "    <tr>\n",
       "      <th>110009</th>\n",
       "      <td>3622</td>\n",
       "      <td>3409.779215</td>\n",
       "    </tr>\n",
       "  </tbody>\n",
       "</table>\n",
       "</div>"
      ],
      "text/plain": [
       "        journeytime    Predicted\n",
       "215182          995  1223.436647\n",
       "213460         4093  3962.687016\n",
       "78033           895  1047.081507\n",
       "298500         1951  2328.264980\n",
       "110009         3622  3409.779215"
      ]
     },
     "execution_count": 46,
     "metadata": {},
     "output_type": "execute_result"
    }
   ],
   "source": [
    "trueVsPredicted = pd.concat([ytrain, pd.DataFrame(trainPredictions, columns=['Predicted'], index=Xtrain.index)], axis=1)\n",
    "trueVsPredicted.head(5)"
   ]
  },
  {
   "cell_type": "code",
   "execution_count": 47,
   "id": "472f7ecc",
   "metadata": {},
   "outputs": [
    {
     "name": "stdout",
     "output_type": "stream",
     "text": [
      "Linear Regression:\n",
      "MAE:  316.1153517048372\n",
      "RMSE:  453.76897554434504\n",
      "R2:  0.9180115452476223\n",
      "\n",
      "Random Forest:\n",
      "MAE:  143.50541101721018\n",
      "RMSE:  239.39607443433377\n",
      "R2:  0.9771799205865639\n"
     ]
    }
   ],
   "source": [
    "print('Linear Regression:')\n",
    "printMetrics(ytrain, trainPredictions)\n",
    "print('\\nRandom Forest:')\n",
    "printMetrics(ytrain, rfcPrediction)"
   ]
  },
  {
   "cell_type": "code",
   "execution_count": null,
   "id": "cebaf0c4",
   "metadata": {},
   "outputs": [],
   "source": []
  }
 ],
 "metadata": {
  "kernelspec": {
   "display_name": "Python 3 (ipykernel)",
   "language": "python",
   "name": "python3"
  },
  "language_info": {
   "codemirror_mode": {
    "name": "ipython",
    "version": 3
   },
   "file_extension": ".py",
   "mimetype": "text/x-python",
   "name": "python",
   "nbconvert_exporter": "python",
   "pygments_lexer": "ipython3",
   "version": "3.10.4"
  }
 },
 "nbformat": 4,
 "nbformat_minor": 5
}
