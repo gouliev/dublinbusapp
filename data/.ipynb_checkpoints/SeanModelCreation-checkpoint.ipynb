{
 "cells": [
  {
   "cell_type": "code",
   "execution_count": 30,
   "id": "d3e6bdc2",
   "metadata": {},
   "outputs": [],
   "source": [
    "import pandas as pd\n",
    "import numpy as np\n",
    "\n",
    "from cleaningScript import cleanData # 1 <3 encapsulation\n",
    "from sklearn.model_selection import train_test_split\n",
    "from sklearn.ensemble import RandomForestClassifier\n",
    "from sklearn.ensemble import RandomForestRegressor\n",
    "import pickle\n",
    "\n",
    "from sklearn.metrics import r2_score\n",
    "from sklearn.metrics import mean_squared_error\n",
    "from sklearn.metrics import mean_absolute_error\n",
    "\n",
    "from sklearn.externals import joblib\n",
    "\n",
    "from math import sqrt"
   ]
  },
  {
   "cell_type": "code",
   "execution_count": 25,
   "id": "08dadd83",
   "metadata": {},
   "outputs": [],
   "source": [
    "#route 84, direction 1. This can be altered.\n",
    "route, direction = '84', 1"
   ]
  },
  {
   "cell_type": "code",
   "execution_count": 78,
   "id": "4c79a051",
   "metadata": {},
   "outputs": [],
   "source": [
    "df = cleanData(route, direction)"
   ]
  },
  {
   "cell_type": "code",
   "execution_count": 79,
   "id": "9336dcb7",
   "metadata": {},
   "outputs": [
    {
     "name": "stderr",
     "output_type": "stream",
     "text": [
      "/tmp/ipykernel_158297/3481408354.py:12: FutureWarning: In a future version of pandas all arguments of DataFrame.drop except for the argument 'labels' will be keyword-only.\n",
      "  X = df.drop([\"journeytime\"],1)\n",
      "/tmp/ipykernel_158297/3481408354.py:17: DataConversionWarning: A column-vector y was passed when a 1d array was expected. Please change the shape of y to (n_samples,), for example using ravel().\n",
      "  randomF.fit(X_train, y_train)\n",
      "/home/student/miniconda3/envs/dublinbusenv/lib/python3.10/site-packages/sklearn/ensemble/_forest.py:416: FutureWarning: `max_features='auto'` has been deprecated in 1.1 and will be removed in 1.3. To keep the past behaviour, explicitly set `max_features=1.0` or remove this parameter as it is also the default value for RandomForestRegressors and ExtraTreesRegressors.\n",
      "  warn(\n"
     ]
    },
    {
     "name": "stdout",
     "output_type": "stream",
     "text": [
      "Complete\n"
     ]
    }
   ],
   "source": [
    "#create day column\n",
    "df['day'] = pd.to_datetime(df['date'], format='%H:%M:%S').dt.dayofweek\n",
    "#create month column\n",
    "df['month'] = pd.to_datetime(df['date'], format='%H:%M:%S').dt.month\n",
    "#create hour column\n",
    "df['hour'] = (df.stopActualArr//3600)\n",
    "df.hour %= 24\n",
    "df = df.drop(columns = ['stopActualArr','rain','temp','pressure','dwelltime', 'date'])\n",
    "df = df[df['journeytime'] >= 0]\n",
    "#y contains the target feature and x contains everything but the target feature. Which in this case is price\n",
    "y = pd.DataFrame(df[\"journeytime\"])\n",
    "X = df.drop([\"journeytime\"],1)\n",
    "# Here we are splitting the it into 70% training and 30% testing\n",
    "X_train, X_test, y_train, y_test = train_test_split(X, y, test_size=0.3,random_state=1)\n",
    "# Train RF with 100 trees\n",
    "randomF = RandomForestRegressor(n_estimators=5, max_features='auto', oob_score=False, random_state=1, max_depth=20)\n",
    "randomF.fit(X_train, y_train)\n",
    "output = open('randomForest.pkl', 'wb')\n",
    "pickle.dump(randomF, output, protocol=pickle.HIGHEST_PROTOCOL)\n",
    "output.close()\n",
    "print(\"Complete\")"
   ]
  },
  {
   "cell_type": "code",
   "execution_count": 80,
   "id": "cec82b07",
   "metadata": {},
   "outputs": [],
   "source": [
    "rForrestTrain = randomF.predict(X_train)\n",
    "rForrestTest = randomF.predict(X_test)"
   ]
  },
  {
   "cell_type": "code",
   "execution_count": 81,
   "id": "101f2e00",
   "metadata": {},
   "outputs": [
    {
     "name": "stdout",
     "output_type": "stream",
     "text": [
      "==================== Test Data =======================\n",
      "R2 Score:  0.9745757243326569\n",
      "Mean Squared Error: \n",
      " 252.18247782182976\n",
      "Mean Absolute Error:\n",
      "  153.18557823421648\n",
      "\n",
      "Root Mean Squred Error:\n",
      "  12.37681615902153\n",
      "\n",
      "==================== Train Data ======================\n",
      "R2 Score:  0.9890155081469976\n",
      "Mean Squared Error: \n",
      " 166.06363555802113\n",
      "\n",
      "Mean Absolute Error:\n",
      "  97.7725551934855\n",
      "\n",
      "Root Mean Squred Error:\n",
      "  9.888000566013611\n"
     ]
    }
   ],
   "source": [
    "# Some evaluation metrics.\n",
    "print(\"==================== Test Data =======================\")\n",
    "print(\"R2 Score: \", r2_score(y_test, rForrestTest))\n",
    "print(\"Mean Squared Error: \\n\",  mean_squared_error(y_test, rForrestTest, squared=False))\n",
    "print(\"Mean Absolute Error:\\n \", mean_absolute_error(y_test, rForrestTest))\n",
    "print(\"\\nRoot Mean Squred Error:\\n \", sqrt(mean_absolute_error(y_test,  rForrestTest)))\n",
    "print(\"\\n==================== Train Data ======================\")\n",
    "print(\"R2 Score: \", r2_score(y_train, rForrestTrain))\n",
    "print(\"Mean Squared Error: \\n\", mean_squared_error(y_train, rForrestTrain, squared=False))\n",
    "print(\"\\nMean Absolute Error:\\n \",mean_absolute_error(y_train, rForrestTrain))\n",
    "print(\"\\nRoot Mean Squred Error:\\n \",sqrt(mean_absolute_error(y_train, rForrestTrain)))"
   ]
  },
  {
   "cell_type": "markdown",
   "id": "9bcfc3f3",
   "metadata": {},
   "source": [
    "# Some Commented Out Data Cleaning\n",
    "\n",
    "df2 = df2.drop(columns = ['tripid'])"
   ]
  },
  {
   "cell_type": "markdown",
   "id": "07afe6ca",
   "metadata": {},
   "source": [
    "df2 = df\n",
    "#create day column\n",
    "df2['day'] = pd.to_datetime(df2['date'], format='%H:%M:%S').dt.dayofweek\n",
    "#create month column\n",
    "df2['month'] = pd.to_datetime(df2['date'], format='%H:%M:%S').dt.month\n",
    "#create hour column\n",
    "df2['hour'] = (df2.stopActualArr//3600)\n",
    "df2.hour %= 24\n",
    "df2 = df2.drop(columns = ['stopActualArr','rain','temp','pressure','dwelltime', 'date'])\n",
    "df2 = df2[df2['journeytime'] >= 0]\n",
    "#y contains the target feature and x contains everything but the target feature. Which in this case is price\n",
    "y = pd.DataFrame(df2[\"journeytime\"])\n",
    "X = df2.drop([\"journeytime\"],1)"
   ]
  },
  {
   "cell_type": "markdown",
   "id": "3a004926",
   "metadata": {},
   "source": [
    "# Here we are splitting the it into 70% training and 30% testing\n",
    "X_train, X_test, y_train, y_test = train_test_split(X, y, test_size=0.3,random_state=1)\n",
    "# Train RF with 100 trees\n",
    "randomF = RandomForestRegressor(n_estimators=5, max_features='auto', oob_score=False, random_state=1, max_depth=20)\n",
    "randomF.fit(X_train, y_train)\n",
    "#Give these easier names\n",
    "rForrestTrain = randomF.predict(X_train)\n",
    "rForrestTest = randomF.predict(X_test)"
   ]
  },
  {
   "cell_type": "markdown",
   "id": "b92a7ea9",
   "metadata": {},
   "source": [
    "# Some evaluation metrics.\n",
    "print(\"==================== Test Data =======================\")\n",
    "print(\"R2 Score: \", r2_score(y_test, rForrestTest))\n",
    "print(\"Mean Squared Error: \\n\",  mean_squared_error(y_test, rForrestTest, squared=False))\n",
    "print(\"Mean Absolute Error:\\n \", mean_absolute_error(y_test, rForrestTest))\n",
    "print(\"\\nRoot Mean Squred Error:\\n \", sqrt(mean_absolute_error(y_test,  rForrestTest)))\n",
    "print(\"\\n==================== Train Data ======================\")\n",
    "print(\"R2 Score: \", r2_score(y_train, rForrestTrain))\n",
    "print(\"Mean Squared Error: \\n\", mean_squared_error(y_train, rForrestTrain, squared=False))\n",
    "print(\"\\nMean Absolute Error:\\n \",mean_absolute_error(y_train, rForrestTrain))\n",
    "print(\"\\nRoot Mean Squred Error:\\n \",sqrt(mean_absolute_error(y_train, rForrestTrain)))"
   ]
  }
 ],
 "metadata": {
  "kernelspec": {
   "display_name": "Python 3 (ipykernel)",
   "language": "python",
   "name": "python3"
  },
  "language_info": {
   "codemirror_mode": {
    "name": "ipython",
    "version": 3
   },
   "file_extension": ".py",
   "mimetype": "text/x-python",
   "name": "python",
   "nbconvert_exporter": "python",
   "pygments_lexer": "ipython3",
   "version": "3.10.4"
  }
 },
 "nbformat": 4,
 "nbformat_minor": 5
}
