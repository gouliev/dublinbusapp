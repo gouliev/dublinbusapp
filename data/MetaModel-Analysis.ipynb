{
 "cells": [
  {
   "cell_type": "code",
   "execution_count": 6,
   "id": "e7941992",
   "metadata": {},
   "outputs": [],
   "source": [
    "import pandas as pd\n",
    "import numpy as np\n",
    "\n",
    "from cleaningScript import cleanData # 1 <3 encapsulation\n",
    "\n",
    "#Seans imported Modules\n",
    "from sklearn.model_selection import train_test_split\n",
    "from sklearn.linear_model import LinearRegression\n",
    "from sklearn.linear_model import LogisticRegression\n",
    "from sklearn.tree import DecisionTreeClassifier\n",
    "from sklearn.tree import DecisionTreeRegressor\n",
    "from sklearn.ensemble import RandomForestClassifier\n",
    "from sklearn.ensemble import RandomForestRegressor\n",
    "from sklearn.metrics import r2_score\n",
    "from sklearn.metrics import mean_squared_error\n",
    "from sklearn.metrics import mean_absolute_error\n",
    "from sklearn import preprocessing\n",
    "#matplotlib for visualization\n",
    "import matplotlib.pyplot as plt\n",
    "#sns for visualization\n",
    "import seaborn as sns\n",
    "\n",
    "from math import sqrt"
   ]
  },
  {
   "cell_type": "code",
   "execution_count": 7,
   "id": "ed00b2cb",
   "metadata": {},
   "outputs": [
    {
     "data": {
      "text/plain": [
       "'\\n            , \"32\", \"40\", \"39A\", \"25B\", \"25B\", \"151\", \"25X\",\\n          \"15\", \"29A\", \"31B\", \"31A\", \"31\", \"65\", \"7A\", \"7\", \"47\", \"33\", \"33A\", \"13\", \"66B\", \"26\", \"66\", \"145\", \"27B\",\\n          \"45A\", \"15B\", \"37\", \"27\", \"40B\", \"40D\", \"17A\", \"238\", \"270\", \"41C\", \"41\", \"11\", \"123\", \"9\", \"38D\", \"184\", \"67X\"\\n          , \"67\", \"70\", \"83\", \"83A\", \"42\", \"38A\", \"38\", \"84\", \"120\", \"84X\", \"75\", \"122\", \"66A\", \"54A\", \"4\", \"56A\", \"220\",\\n          \"15D\", \"18\", \"1\", \"41X\", \"102\", \"114\", \"150\", \"111\", \"15A\", \"68\", \"69\", \"61\", \"130\", \"79\", \"79A\", \"17\", \"53\",\\n          \"76A\", \"14C\", \"66X\", \"38B\", \"25D\", \"49\", \"140\", \"33X\", \"77X\", \"7B\", \"161\", \"33B\", \"44\", \"142\", \"41B\", \"68A\", \"63\",\\n          \"39X\", \"31D\", \"51D\", \"185\", \"27X\", \"84A\", \"104\", \"7D\", \"59\", \"32X\", \"69X\", \"116\", \"65B\", \"239\", \"44B\", \"41A\",\\n          \"118\", \"46E\", \"236\", \"70D\", \"51X\", \"68X\", \"42D\", \"33D\", \"40E\", \"16D\", \"33E\", \"41D\"]\\n'"
      ]
     },
     "execution_count": 7,
     "metadata": {},
     "output_type": "execute_result"
    }
   ],
   "source": [
    "busList = ['14', \"77A\", \"25\", \"46A\", '39', \"43\", \"16\", \"16C\", \"76\", \"27A\"]\n",
    "\n",
    "\"\"\"\n",
    "            , \"32\", \"40\", \"39A\", \"25B\", \"25B\", \"151\", \"25X\",\n",
    "          \"15\", \"29A\", \"31B\", \"31A\", \"31\", \"65\", \"7A\", \"7\", \"47\", \"33\", \"33A\", \"13\", \"66B\", \"26\", \"66\", \"145\", \"27B\",\n",
    "          \"45A\", \"15B\", \"37\", \"27\", \"40B\", \"40D\", \"17A\", \"238\", \"270\", \"41C\", \"41\", \"11\", \"123\", \"9\", \"38D\", \"184\", \"67X\"\n",
    "          , \"67\", \"70\", \"83\", \"83A\", \"42\", \"38A\", \"38\", \"84\", \"120\", \"84X\", \"75\", \"122\", \"66A\", \"54A\", \"4\", \"56A\", \"220\",\n",
    "          \"15D\", \"18\", \"1\", \"41X\", \"102\", \"114\", \"150\", \"111\", \"15A\", \"68\", \"69\", \"61\", \"130\", \"79\", \"79A\", \"17\", \"53\",\n",
    "          \"76A\", \"14C\", \"66X\", \"38B\", \"25D\", \"49\", \"140\", \"33X\", \"77X\", \"7B\", \"161\", \"33B\", \"44\", \"142\", \"41B\", \"68A\", \"63\",\n",
    "          \"39X\", \"31D\", \"51D\", \"185\", \"27X\", \"84A\", \"104\", \"7D\", \"59\", \"32X\", \"69X\", \"116\", \"65B\", \"239\", \"44B\", \"41A\",\n",
    "          \"118\", \"46E\", \"236\", \"70D\", \"51X\", \"68X\", \"42D\", \"33D\", \"40E\", \"16D\", \"33E\", \"41D\"]\n",
    "\"\"\""
   ]
  },
  {
   "cell_type": "code",
   "execution_count": 8,
   "id": "452c703f",
   "metadata": {},
   "outputs": [],
   "source": [
    "R2scores = []\n",
    "MSEscores = []\n",
    "MAEscores = []\n",
    "RMSEscores = []"
   ]
  },
  {
   "cell_type": "code",
   "execution_count": 9,
   "id": "f7bb7c23",
   "metadata": {
    "scrolled": true
   },
   "outputs": [
    {
     "name": "stderr",
     "output_type": "stream",
     "text": [
      "/tmp/ipykernel_152781/3080400945.py:16: FutureWarning: In a future version of pandas all arguments of DataFrame.drop except for the argument 'labels' will be keyword-only.\n",
      "  X = df.drop([\"journeytime\"],1)\n",
      "/tmp/ipykernel_152781/3080400945.py:20: DataConversionWarning: A column-vector y was passed when a 1d array was expected. Please change the shape of y to (n_samples,), for example using ravel().\n",
      "  randomF.fit(X_train, y_train)\n",
      "/home/student/miniconda3/envs/dublinbusenv/lib/python3.10/site-packages/sklearn/ensemble/_forest.py:416: FutureWarning: `max_features='auto'` has been deprecated in 1.1 and will be removed in 1.3. To keep the past behaviour, explicitly set `max_features=1.0` or remove this parameter as it is also the default value for RandomForestRegressors and ExtraTreesRegressors.\n",
      "  warn(\n"
     ]
    },
    {
     "name": "stdout",
     "output_type": "stream",
     "text": [
      "0.9370760008917514\n"
     ]
    },
    {
     "name": "stderr",
     "output_type": "stream",
     "text": [
      "/tmp/ipykernel_152781/3080400945.py:16: FutureWarning: In a future version of pandas all arguments of DataFrame.drop except for the argument 'labels' will be keyword-only.\n",
      "  X = df.drop([\"journeytime\"],1)\n",
      "/tmp/ipykernel_152781/3080400945.py:20: DataConversionWarning: A column-vector y was passed when a 1d array was expected. Please change the shape of y to (n_samples,), for example using ravel().\n",
      "  randomF.fit(X_train, y_train)\n",
      "/home/student/miniconda3/envs/dublinbusenv/lib/python3.10/site-packages/sklearn/ensemble/_forest.py:416: FutureWarning: `max_features='auto'` has been deprecated in 1.1 and will be removed in 1.3. To keep the past behaviour, explicitly set `max_features=1.0` or remove this parameter as it is also the default value for RandomForestRegressors and ExtraTreesRegressors.\n",
      "  warn(\n"
     ]
    },
    {
     "name": "stdout",
     "output_type": "stream",
     "text": [
      "0.9430111462297125\n"
     ]
    },
    {
     "name": "stderr",
     "output_type": "stream",
     "text": [
      "/tmp/ipykernel_152781/3080400945.py:16: FutureWarning: In a future version of pandas all arguments of DataFrame.drop except for the argument 'labels' will be keyword-only.\n",
      "  X = df.drop([\"journeytime\"],1)\n",
      "/tmp/ipykernel_152781/3080400945.py:20: DataConversionWarning: A column-vector y was passed when a 1d array was expected. Please change the shape of y to (n_samples,), for example using ravel().\n",
      "  randomF.fit(X_train, y_train)\n",
      "/home/student/miniconda3/envs/dublinbusenv/lib/python3.10/site-packages/sklearn/ensemble/_forest.py:416: FutureWarning: `max_features='auto'` has been deprecated in 1.1 and will be removed in 1.3. To keep the past behaviour, explicitly set `max_features=1.0` or remove this parameter as it is also the default value for RandomForestRegressors and ExtraTreesRegressors.\n",
      "  warn(\n"
     ]
    },
    {
     "name": "stdout",
     "output_type": "stream",
     "text": [
      "0.9431490908086493\n"
     ]
    },
    {
     "name": "stderr",
     "output_type": "stream",
     "text": [
      "/tmp/ipykernel_152781/3080400945.py:16: FutureWarning: In a future version of pandas all arguments of DataFrame.drop except for the argument 'labels' will be keyword-only.\n",
      "  X = df.drop([\"journeytime\"],1)\n",
      "/tmp/ipykernel_152781/3080400945.py:20: DataConversionWarning: A column-vector y was passed when a 1d array was expected. Please change the shape of y to (n_samples,), for example using ravel().\n",
      "  randomF.fit(X_train, y_train)\n",
      "/home/student/miniconda3/envs/dublinbusenv/lib/python3.10/site-packages/sklearn/ensemble/_forest.py:416: FutureWarning: `max_features='auto'` has been deprecated in 1.1 and will be removed in 1.3. To keep the past behaviour, explicitly set `max_features=1.0` or remove this parameter as it is also the default value for RandomForestRegressors and ExtraTreesRegressors.\n",
      "  warn(\n"
     ]
    },
    {
     "name": "stdout",
     "output_type": "stream",
     "text": [
      "0.9353797808801997\n"
     ]
    },
    {
     "name": "stderr",
     "output_type": "stream",
     "text": [
      "/tmp/ipykernel_152781/3080400945.py:16: FutureWarning: In a future version of pandas all arguments of DataFrame.drop except for the argument 'labels' will be keyword-only.\n",
      "  X = df.drop([\"journeytime\"],1)\n",
      "/tmp/ipykernel_152781/3080400945.py:20: DataConversionWarning: A column-vector y was passed when a 1d array was expected. Please change the shape of y to (n_samples,), for example using ravel().\n",
      "  randomF.fit(X_train, y_train)\n",
      "/home/student/miniconda3/envs/dublinbusenv/lib/python3.10/site-packages/sklearn/ensemble/_forest.py:416: FutureWarning: `max_features='auto'` has been deprecated in 1.1 and will be removed in 1.3. To keep the past behaviour, explicitly set `max_features=1.0` or remove this parameter as it is also the default value for RandomForestRegressors and ExtraTreesRegressors.\n",
      "  warn(\n"
     ]
    },
    {
     "name": "stdout",
     "output_type": "stream",
     "text": [
      "0.9581298940596753\n"
     ]
    },
    {
     "name": "stderr",
     "output_type": "stream",
     "text": [
      "/tmp/ipykernel_152781/3080400945.py:16: FutureWarning: In a future version of pandas all arguments of DataFrame.drop except for the argument 'labels' will be keyword-only.\n",
      "  X = df.drop([\"journeytime\"],1)\n",
      "/tmp/ipykernel_152781/3080400945.py:20: DataConversionWarning: A column-vector y was passed when a 1d array was expected. Please change the shape of y to (n_samples,), for example using ravel().\n",
      "  randomF.fit(X_train, y_train)\n",
      "/home/student/miniconda3/envs/dublinbusenv/lib/python3.10/site-packages/sklearn/ensemble/_forest.py:416: FutureWarning: `max_features='auto'` has been deprecated in 1.1 and will be removed in 1.3. To keep the past behaviour, explicitly set `max_features=1.0` or remove this parameter as it is also the default value for RandomForestRegressors and ExtraTreesRegressors.\n",
      "  warn(\n"
     ]
    },
    {
     "name": "stdout",
     "output_type": "stream",
     "text": [
      "0.9501359820502324\n"
     ]
    },
    {
     "name": "stderr",
     "output_type": "stream",
     "text": [
      "/tmp/ipykernel_152781/3080400945.py:16: FutureWarning: In a future version of pandas all arguments of DataFrame.drop except for the argument 'labels' will be keyword-only.\n",
      "  X = df.drop([\"journeytime\"],1)\n",
      "/tmp/ipykernel_152781/3080400945.py:20: DataConversionWarning: A column-vector y was passed when a 1d array was expected. Please change the shape of y to (n_samples,), for example using ravel().\n",
      "  randomF.fit(X_train, y_train)\n",
      "/home/student/miniconda3/envs/dublinbusenv/lib/python3.10/site-packages/sklearn/ensemble/_forest.py:416: FutureWarning: `max_features='auto'` has been deprecated in 1.1 and will be removed in 1.3. To keep the past behaviour, explicitly set `max_features=1.0` or remove this parameter as it is also the default value for RandomForestRegressors and ExtraTreesRegressors.\n",
      "  warn(\n"
     ]
    },
    {
     "name": "stdout",
     "output_type": "stream",
     "text": [
      "0.956504965575632\n"
     ]
    },
    {
     "name": "stderr",
     "output_type": "stream",
     "text": [
      "/tmp/ipykernel_152781/3080400945.py:16: FutureWarning: In a future version of pandas all arguments of DataFrame.drop except for the argument 'labels' will be keyword-only.\n",
      "  X = df.drop([\"journeytime\"],1)\n",
      "/tmp/ipykernel_152781/3080400945.py:20: DataConversionWarning: A column-vector y was passed when a 1d array was expected. Please change the shape of y to (n_samples,), for example using ravel().\n",
      "  randomF.fit(X_train, y_train)\n",
      "/home/student/miniconda3/envs/dublinbusenv/lib/python3.10/site-packages/sklearn/ensemble/_forest.py:416: FutureWarning: `max_features='auto'` has been deprecated in 1.1 and will be removed in 1.3. To keep the past behaviour, explicitly set `max_features=1.0` or remove this parameter as it is also the default value for RandomForestRegressors and ExtraTreesRegressors.\n",
      "  warn(\n"
     ]
    },
    {
     "name": "stdout",
     "output_type": "stream",
     "text": [
      "0.9425686678019795\n"
     ]
    },
    {
     "name": "stderr",
     "output_type": "stream",
     "text": [
      "/tmp/ipykernel_152781/3080400945.py:16: FutureWarning: In a future version of pandas all arguments of DataFrame.drop except for the argument 'labels' will be keyword-only.\n",
      "  X = df.drop([\"journeytime\"],1)\n",
      "/tmp/ipykernel_152781/3080400945.py:20: DataConversionWarning: A column-vector y was passed when a 1d array was expected. Please change the shape of y to (n_samples,), for example using ravel().\n",
      "  randomF.fit(X_train, y_train)\n",
      "/home/student/miniconda3/envs/dublinbusenv/lib/python3.10/site-packages/sklearn/ensemble/_forest.py:416: FutureWarning: `max_features='auto'` has been deprecated in 1.1 and will be removed in 1.3. To keep the past behaviour, explicitly set `max_features=1.0` or remove this parameter as it is also the default value for RandomForestRegressors and ExtraTreesRegressors.\n",
      "  warn(\n"
     ]
    },
    {
     "name": "stdout",
     "output_type": "stream",
     "text": [
      "0.9226915485330436\n"
     ]
    },
    {
     "name": "stderr",
     "output_type": "stream",
     "text": [
      "/tmp/ipykernel_152781/3080400945.py:16: FutureWarning: In a future version of pandas all arguments of DataFrame.drop except for the argument 'labels' will be keyword-only.\n",
      "  X = df.drop([\"journeytime\"],1)\n",
      "/tmp/ipykernel_152781/3080400945.py:20: DataConversionWarning: A column-vector y was passed when a 1d array was expected. Please change the shape of y to (n_samples,), for example using ravel().\n",
      "  randomF.fit(X_train, y_train)\n",
      "/home/student/miniconda3/envs/dublinbusenv/lib/python3.10/site-packages/sklearn/ensemble/_forest.py:416: FutureWarning: `max_features='auto'` has been deprecated in 1.1 and will be removed in 1.3. To keep the past behaviour, explicitly set `max_features=1.0` or remove this parameter as it is also the default value for RandomForestRegressors and ExtraTreesRegressors.\n",
      "  warn(\n"
     ]
    },
    {
     "name": "stdout",
     "output_type": "stream",
     "text": [
      "0.8546285942993423\n"
     ]
    }
   ],
   "source": [
    "for bus in busList:\n",
    "    #get the bus route and the bus direction\n",
    "    route, direction = bus, 1\n",
    "    #Clean the Data\n",
    "    df = cleanData(route, direction)\n",
    "    #create day column\n",
    "    df['day'] = pd.to_datetime(df['date'], format='%H:%M:%S').dt.dayofweek\n",
    "    #create month column\n",
    "    df['month'] = pd.to_datetime(df['date'], format='%H:%M:%S').dt.month\n",
    "    #remove negative values\n",
    "    df = df[df['stopActualArr'] >= 0]\n",
    "    df = df[df['journeytime'] >= 0]\n",
    "    df = df.drop(columns=['date', 'tripid', 'stopActualArr', 'dwelltime'])\n",
    "    #y contains the target feature and x contains everything but the target feature. Which in this case is price\n",
    "    y = pd.DataFrame(df[\"journeytime\"])\n",
    "    X = df.drop([\"journeytime\"],1)\n",
    "    X_train, X_test, y_train, y_test = train_test_split(X, y, test_size=0.3,random_state=1)\n",
    "    #Here is the model\n",
    "    randomF = RandomForestRegressor(n_estimators=100, max_features='auto', oob_score=True, random_state=1)\n",
    "    randomF.fit(X_train, y_train)\n",
    "    # calculate the prediction and threshold the value. This will calculate the random forrest\n",
    "    rForrestTest = randomF.predict(X_test)\n",
    "    #assign and calculate the variables \n",
    "    R2score = r2_score(y_test, rForrestTest)\n",
    "    MSEscore = mean_squared_error(y_test, rForrestTest, squared=False) \n",
    "    MAEscore = mean_absolute_error(y_test, rForrestTest)\n",
    "    RMSEscore = sqrt(mean_absolute_error(y_test, rForrestTest))\n",
    "    #append the variables\n",
    "    R2scores.append(R2score)\n",
    "    MSEscores.append(MSEscore)\n",
    "    MAEscores.append(MAEscore)\n",
    "    RMSEscores.append(RMSEscore)\n",
    "    print(R2score)"
   ]
  },
  {
   "cell_type": "code",
   "execution_count": 13,
   "id": "393fee26",
   "metadata": {
    "scrolled": true
   },
   "outputs": [
    {
     "name": "stderr",
     "output_type": "stream",
     "text": [
      "/tmp/ipykernel_152781/1768696847.py:16: FutureWarning: In a future version of pandas all arguments of DataFrame.drop except for the argument 'labels' will be keyword-only.\n",
      "  X = df.drop([\"journeytime\"],1)\n",
      "/tmp/ipykernel_152781/1768696847.py:20: DataConversionWarning: A column-vector y was passed when a 1d array was expected. Please change the shape of y to (n_samples,), for example using ravel().\n",
      "  randomF.fit(X_train, y_train)\n",
      "/home/student/miniconda3/envs/dublinbusenv/lib/python3.10/site-packages/sklearn/ensemble/_forest.py:416: FutureWarning: `max_features='auto'` has been deprecated in 1.1 and will be removed in 1.3. To keep the past behaviour, explicitly set `max_features=1.0` or remove this parameter as it is also the default value for RandomForestRegressors and ExtraTreesRegressors.\n",
      "  warn(\n"
     ]
    },
    {
     "name": "stdout",
     "output_type": "stream",
     "text": [
      "0.9609376878180618\n"
     ]
    },
    {
     "name": "stderr",
     "output_type": "stream",
     "text": [
      "/tmp/ipykernel_152781/1768696847.py:16: FutureWarning: In a future version of pandas all arguments of DataFrame.drop except for the argument 'labels' will be keyword-only.\n",
      "  X = df.drop([\"journeytime\"],1)\n",
      "/tmp/ipykernel_152781/1768696847.py:20: DataConversionWarning: A column-vector y was passed when a 1d array was expected. Please change the shape of y to (n_samples,), for example using ravel().\n",
      "  randomF.fit(X_train, y_train)\n",
      "/home/student/miniconda3/envs/dublinbusenv/lib/python3.10/site-packages/sklearn/ensemble/_forest.py:416: FutureWarning: `max_features='auto'` has been deprecated in 1.1 and will be removed in 1.3. To keep the past behaviour, explicitly set `max_features=1.0` or remove this parameter as it is also the default value for RandomForestRegressors and ExtraTreesRegressors.\n",
      "  warn(\n"
     ]
    },
    {
     "name": "stdout",
     "output_type": "stream",
     "text": [
      "0.9529723017710725\n"
     ]
    },
    {
     "name": "stderr",
     "output_type": "stream",
     "text": [
      "/tmp/ipykernel_152781/1768696847.py:16: FutureWarning: In a future version of pandas all arguments of DataFrame.drop except for the argument 'labels' will be keyword-only.\n",
      "  X = df.drop([\"journeytime\"],1)\n",
      "/tmp/ipykernel_152781/1768696847.py:20: DataConversionWarning: A column-vector y was passed when a 1d array was expected. Please change the shape of y to (n_samples,), for example using ravel().\n",
      "  randomF.fit(X_train, y_train)\n",
      "/home/student/miniconda3/envs/dublinbusenv/lib/python3.10/site-packages/sklearn/ensemble/_forest.py:416: FutureWarning: `max_features='auto'` has been deprecated in 1.1 and will be removed in 1.3. To keep the past behaviour, explicitly set `max_features=1.0` or remove this parameter as it is also the default value for RandomForestRegressors and ExtraTreesRegressors.\n",
      "  warn(\n"
     ]
    },
    {
     "name": "stdout",
     "output_type": "stream",
     "text": [
      "0.9009753067283327\n"
     ]
    },
    {
     "name": "stderr",
     "output_type": "stream",
     "text": [
      "/tmp/ipykernel_152781/1768696847.py:16: FutureWarning: In a future version of pandas all arguments of DataFrame.drop except for the argument 'labels' will be keyword-only.\n",
      "  X = df.drop([\"journeytime\"],1)\n",
      "/tmp/ipykernel_152781/1768696847.py:20: DataConversionWarning: A column-vector y was passed when a 1d array was expected. Please change the shape of y to (n_samples,), for example using ravel().\n",
      "  randomF.fit(X_train, y_train)\n",
      "/home/student/miniconda3/envs/dublinbusenv/lib/python3.10/site-packages/sklearn/ensemble/_forest.py:416: FutureWarning: `max_features='auto'` has been deprecated in 1.1 and will be removed in 1.3. To keep the past behaviour, explicitly set `max_features=1.0` or remove this parameter as it is also the default value for RandomForestRegressors and ExtraTreesRegressors.\n",
      "  warn(\n"
     ]
    },
    {
     "name": "stdout",
     "output_type": "stream",
     "text": [
      "0.9515982880496497\n"
     ]
    },
    {
     "name": "stderr",
     "output_type": "stream",
     "text": [
      "/tmp/ipykernel_152781/1768696847.py:16: FutureWarning: In a future version of pandas all arguments of DataFrame.drop except for the argument 'labels' will be keyword-only.\n",
      "  X = df.drop([\"journeytime\"],1)\n",
      "/tmp/ipykernel_152781/1768696847.py:20: DataConversionWarning: A column-vector y was passed when a 1d array was expected. Please change the shape of y to (n_samples,), for example using ravel().\n",
      "  randomF.fit(X_train, y_train)\n",
      "/home/student/miniconda3/envs/dublinbusenv/lib/python3.10/site-packages/sklearn/ensemble/_forest.py:416: FutureWarning: `max_features='auto'` has been deprecated in 1.1 and will be removed in 1.3. To keep the past behaviour, explicitly set `max_features=1.0` or remove this parameter as it is also the default value for RandomForestRegressors and ExtraTreesRegressors.\n",
      "  warn(\n"
     ]
    },
    {
     "name": "stdout",
     "output_type": "stream",
     "text": [
      "0.96655349758143\n"
     ]
    },
    {
     "name": "stderr",
     "output_type": "stream",
     "text": [
      "/tmp/ipykernel_152781/1768696847.py:16: FutureWarning: In a future version of pandas all arguments of DataFrame.drop except for the argument 'labels' will be keyword-only.\n",
      "  X = df.drop([\"journeytime\"],1)\n",
      "/tmp/ipykernel_152781/1768696847.py:20: DataConversionWarning: A column-vector y was passed when a 1d array was expected. Please change the shape of y to (n_samples,), for example using ravel().\n",
      "  randomF.fit(X_train, y_train)\n",
      "/home/student/miniconda3/envs/dublinbusenv/lib/python3.10/site-packages/sklearn/ensemble/_forest.py:416: FutureWarning: `max_features='auto'` has been deprecated in 1.1 and will be removed in 1.3. To keep the past behaviour, explicitly set `max_features=1.0` or remove this parameter as it is also the default value for RandomForestRegressors and ExtraTreesRegressors.\n",
      "  warn(\n"
     ]
    },
    {
     "name": "stdout",
     "output_type": "stream",
     "text": [
      "0.9348453157407721\n"
     ]
    },
    {
     "name": "stderr",
     "output_type": "stream",
     "text": [
      "/tmp/ipykernel_152781/1768696847.py:16: FutureWarning: In a future version of pandas all arguments of DataFrame.drop except for the argument 'labels' will be keyword-only.\n",
      "  X = df.drop([\"journeytime\"],1)\n",
      "/tmp/ipykernel_152781/1768696847.py:20: DataConversionWarning: A column-vector y was passed when a 1d array was expected. Please change the shape of y to (n_samples,), for example using ravel().\n",
      "  randomF.fit(X_train, y_train)\n",
      "/home/student/miniconda3/envs/dublinbusenv/lib/python3.10/site-packages/sklearn/ensemble/_forest.py:416: FutureWarning: `max_features='auto'` has been deprecated in 1.1 and will be removed in 1.3. To keep the past behaviour, explicitly set `max_features=1.0` or remove this parameter as it is also the default value for RandomForestRegressors and ExtraTreesRegressors.\n",
      "  warn(\n"
     ]
    },
    {
     "name": "stdout",
     "output_type": "stream",
     "text": [
      "0.9568156630550427\n"
     ]
    },
    {
     "name": "stderr",
     "output_type": "stream",
     "text": [
      "/tmp/ipykernel_152781/1768696847.py:16: FutureWarning: In a future version of pandas all arguments of DataFrame.drop except for the argument 'labels' will be keyword-only.\n",
      "  X = df.drop([\"journeytime\"],1)\n",
      "/tmp/ipykernel_152781/1768696847.py:20: DataConversionWarning: A column-vector y was passed when a 1d array was expected. Please change the shape of y to (n_samples,), for example using ravel().\n",
      "  randomF.fit(X_train, y_train)\n",
      "/home/student/miniconda3/envs/dublinbusenv/lib/python3.10/site-packages/sklearn/ensemble/_forest.py:416: FutureWarning: `max_features='auto'` has been deprecated in 1.1 and will be removed in 1.3. To keep the past behaviour, explicitly set `max_features=1.0` or remove this parameter as it is also the default value for RandomForestRegressors and ExtraTreesRegressors.\n",
      "  warn(\n"
     ]
    },
    {
     "name": "stdout",
     "output_type": "stream",
     "text": [
      "0.9669475142407862\n"
     ]
    },
    {
     "name": "stderr",
     "output_type": "stream",
     "text": [
      "/tmp/ipykernel_152781/1768696847.py:16: FutureWarning: In a future version of pandas all arguments of DataFrame.drop except for the argument 'labels' will be keyword-only.\n",
      "  X = df.drop([\"journeytime\"],1)\n",
      "/tmp/ipykernel_152781/1768696847.py:20: DataConversionWarning: A column-vector y was passed when a 1d array was expected. Please change the shape of y to (n_samples,), for example using ravel().\n",
      "  randomF.fit(X_train, y_train)\n",
      "/home/student/miniconda3/envs/dublinbusenv/lib/python3.10/site-packages/sklearn/ensemble/_forest.py:416: FutureWarning: `max_features='auto'` has been deprecated in 1.1 and will be removed in 1.3. To keep the past behaviour, explicitly set `max_features=1.0` or remove this parameter as it is also the default value for RandomForestRegressors and ExtraTreesRegressors.\n",
      "  warn(\n"
     ]
    },
    {
     "name": "stdout",
     "output_type": "stream",
     "text": [
      "0.9388935283391451\n"
     ]
    },
    {
     "name": "stderr",
     "output_type": "stream",
     "text": [
      "/tmp/ipykernel_152781/1768696847.py:16: FutureWarning: In a future version of pandas all arguments of DataFrame.drop except for the argument 'labels' will be keyword-only.\n",
      "  X = df.drop([\"journeytime\"],1)\n",
      "/tmp/ipykernel_152781/1768696847.py:20: DataConversionWarning: A column-vector y was passed when a 1d array was expected. Please change the shape of y to (n_samples,), for example using ravel().\n",
      "  randomF.fit(X_train, y_train)\n",
      "/home/student/miniconda3/envs/dublinbusenv/lib/python3.10/site-packages/sklearn/ensemble/_forest.py:416: FutureWarning: `max_features='auto'` has been deprecated in 1.1 and will be removed in 1.3. To keep the past behaviour, explicitly set `max_features=1.0` or remove this parameter as it is also the default value for RandomForestRegressors and ExtraTreesRegressors.\n",
      "  warn(\n"
     ]
    },
    {
     "name": "stdout",
     "output_type": "stream",
     "text": [
      "0.9144249504845755\n"
     ]
    }
   ],
   "source": [
    "for bus in busList:\n",
    "    #get the bus route and the bus direction\n",
    "    route, direction = bus, 2\n",
    "    #Clean the Data\n",
    "    df = cleanData(route, direction)\n",
    "    #create day column\n",
    "    df['day'] = pd.to_datetime(df['date'], format='%H:%M:%S').dt.dayofweek\n",
    "    #create month column\n",
    "    df['month'] = pd.to_datetime(df['date'], format='%H:%M:%S').dt.month\n",
    "    #remove negative values\n",
    "    df = df[df['stopActualArr'] >= 0]\n",
    "    df = df[df['journeytime'] >= 0]\n",
    "    df = df.drop(columns=['date', 'tripid', 'stopActualArr', 'dwelltime'])\n",
    "    #y contains the target feature and x contains everything but the target feature. Which in this case is price\n",
    "    y = pd.DataFrame(df[\"journeytime\"])\n",
    "    X = df.drop([\"journeytime\"],1)\n",
    "    X_train, X_test, y_train, y_test = train_test_split(X, y, test_size=0.3,random_state=1)\n",
    "    #Here is the model\n",
    "    randomF = RandomForestRegressor(n_estimators=100, max_features='auto', oob_score=True, random_state=1)\n",
    "    randomF.fit(X_train, y_train)\n",
    "    # calculate the prediction and threshold the value. This will calculate the random forrest\n",
    "    rForrestTest = randomF.predict(X_test)\n",
    "    #assign and calculate the variables \n",
    "    R2score = r2_score(y_test, rForrestTest)\n",
    "    MSEscore = mean_squared_error(y_test, rForrestTest, squared=False) \n",
    "    MAEscore = mean_absolute_error(y_test, rForrestTest)\n",
    "    RMSEscore = sqrt(mean_absolute_error(y_test, rForrestTest))\n",
    "    #append the variables\n",
    "    R2scores.append(R2score)\n",
    "    MSEscores.append(MSEscore)\n",
    "    MAEscores.append(MAEscore)\n",
    "    RMSEscores.append(RMSEscore)\n",
    "    print(R2score)"
   ]
  },
  {
   "cell_type": "code",
   "execution_count": 16,
   "id": "564774df",
   "metadata": {},
   "outputs": [],
   "source": [
    "r2Value = 0\n",
    "for i in R2scores:\n",
    "    r2Value += i"
   ]
  },
  {
   "cell_type": "code",
   "execution_count": 17,
   "id": "d17db53b",
   "metadata": {},
   "outputs": [],
   "source": [
    "mseValue = 0\n",
    "for i in MSEscores:\n",
    "    mseValue += i"
   ]
  },
  {
   "cell_type": "code",
   "execution_count": 18,
   "id": "38708942",
   "metadata": {},
   "outputs": [],
   "source": [
    "maeValue = 0\n",
    "for i in MAEscores:\n",
    "    maeValue += i"
   ]
  },
  {
   "cell_type": "code",
   "execution_count": 19,
   "id": "10561b46",
   "metadata": {},
   "outputs": [],
   "source": [
    "rmseValue = 0\n",
    "for i in RMSEscores:\n",
    "    rmseValue += i"
   ]
  },
  {
   "cell_type": "code",
   "execution_count": 20,
   "id": "5ff219fc",
   "metadata": {},
   "outputs": [
    {
     "name": "stdout",
     "output_type": "stream",
     "text": [
      "=========================Average Metrics For Random Forest=========================\n",
      "0.9491322877877402\n",
      "245.7358404857482\n",
      "160.0440251268604\n",
      "12.378661867745807\n"
     ]
    }
   ],
   "source": [
    "print(\"=========================Average Metrics For Random Forest=========================\")\n",
    "print(r2Value/26)\n",
    "print(mseValue/26)\n",
    "print(maeValue/26)\n",
    "print(rmseValue/26)"
   ]
  }
 ],
 "metadata": {
  "kernelspec": {
   "display_name": "Python 3 (ipykernel)",
   "language": "python",
   "name": "python3"
  },
  "language_info": {
   "codemirror_mode": {
    "name": "ipython",
    "version": 3
   },
   "file_extension": ".py",
   "mimetype": "text/x-python",
   "name": "python",
   "nbconvert_exporter": "python",
   "pygments_lexer": "ipython3",
   "version": "3.8.10"
  }
 },
 "nbformat": 4,
 "nbformat_minor": 5
}
